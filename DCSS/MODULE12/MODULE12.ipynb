{
 "cells": [
  {
   "cell_type": "markdown",
   "metadata": {},
   "source": [
    "<br><br><font color=\"gray\">DOING COMPUTATIONAL SOCIAL SCIENCE<br>MODULE 12 <strong>PROBLEM SETS</strong></font>\n",
    "\n",
    "# <font color=\"#49699E\" size=40>THE FINAL MODULE</font>"
   ]
  },
  {
   "cell_type": "markdown",
   "metadata": {},
   "source": [
    "# How to Submit Your (Pickled) Assignment! \n",
    "\n",
    "Since we've had to rethink the way we deliver, collect, and evaluate these problem sets, we want to be very clear about what you need to do to properly submit this module notebook assignment. Please read the following explanation of our process so that you understand how this works, and what you need to do.\n",
    "\n",
    "At the very end of this notebook, there is a code cell that will compile all of your answers to every problem in the assignment and save them as a 'pickle' file (`.pkl`) in the current working directory. You can execute that cell as many times as you like. Each time you run it, it will overwrite the old pickle with your updated answers. **Once you've ensured that everything in the notebook is complete and finished to your satisfaction, it's up to you to get the pickle that you just created and upload it to the appropriate Learn dropbox for this module.** The file you are looking for will not exist until you run the cells at the end of the notebook. Once it has been created, it will follow this naming convention: \n",
    "\n",
    "> `module_[number]__student_[your_student_number].pkl`\n",
    "\n",
    "To be very clear, **you need to submit the pickle to Learn**. You do not need to upload the Jupyter Notebook as initially planned. **Just the pickle!**"
   ]
  },
  {
   "cell_type": "markdown",
   "metadata": {},
   "source": [
    "## Make Sure Everything is Good to Go\n",
    "\n",
    "It's generally a good idea to do a 'fresh' run of your entire notebook before you submit your assignment to make sure that everything is working as it should be. You can use the button with the 'Fast-Forward' arrows in the Jupyter toolbar above to restart the kernel (resetting everything to initial conditions) and running every code cell in the notebook, in order. You can also select 'Restart and Run All' from the Kernel dropdown menu. If the entire notebook runs without throwing any errors, you should be good to go!\n",
    "\n",
    "If you're running into issues, make sure that you haven't changed any of the 'answer' variable names we provided you with (e.g., we asked you to store your answer to the first question in a variable called `_01`). If you change an answer's variable name or don't store your answer in that variable, the project won't finalize properly and you won't get proper credit for your work. The same goes for the `student_id` metadata variable we ask you to complete immediately below; if any of those are missing, haven't been filled in properly, or have been renamed, issues may arise during the grading process and you will not receive proper credit. So make sure you enter your student information, and don't delete or change the names of the variables that store your answers to each problem!"
   ]
  },
  {
   "cell_type": "markdown",
   "metadata": {},
   "source": [
    "## IMPORTANT: ADD YOUR STUDENT ID NUMBER\n",
    "\n",
    "<div class=\"alert alert-block alert-danger\">\n",
    "To evaluate your work, we need you to provide your student number. In the cell below, <strong>replace '12345678' with your student number</strong>. The student_id' variable needs to be an integer, so <strong>do not wrap it in quotes.</strong>\n",
    "</div>"
   ]
  },
  {
   "cell_type": "code",
   "execution_count": null,
   "metadata": {},
   "outputs": [],
   "source": [
    "# Your UWaterloo student ID number\n",
    "student_id = 20611274 "
   ]
  },
  {
   "cell_type": "markdown",
   "metadata": {},
   "source": [
    "<div class=\"alert alert-block alert-info\">  \n",
    "This assignment is a bit different from what you've been used to thus far! Rather than asking you to write code or interpret results, this assignment consists entirely of reflections on the Module 12 chapters (1 per chapter, 5 total) plus a final question asking you to reflect on your time in the course!\n",
    "</div>"
   ]
  },
  {
   "cell_type": "markdown",
   "metadata": {},
   "source": [
    "## Question 1:\n",
    "\n",
    "<div class=\"alert alert-block alert-success\">\n",
    "Identify 1 or 2 key points or valuable insights you learned from \"Generative Network Analysis with Bayesian Stochastic Blockmodels\"\n",
    "</div>"
   ]
  },
  {
   "cell_type": "code",
   "execution_count": null,
   "metadata": {},
   "outputs": [],
   "source": [
    "#_01\n",
    "\n",
    "_01 = \"\"\"\n",
    "The logic of Bayes for Generative Network Analysis is an intensive computational process\n",
    "involving joint probability distributions (i.e. every possible combination of values for\n",
    "both latent and observed data, as well an approximate posterior inference to determine the\n",
    "conditionals of each former on the latter. I also found that the use of a Stochastic Blockmodel\n",
    "as a graph goes further than considering equivalence between nodes, but also the probability\n",
    "of connections between other nodes to evaluate strong connections for inference. Additionally, the\n",
    "implementations that exist for this are surprisingly efficient, and can handle large networks.\n",
    "\"\"\""
   ]
  },
  {
   "cell_type": "markdown",
   "metadata": {},
   "source": [
    "## Question 2:\n",
    "<div class=\"alert alert-block alert-success\">\n",
    "Identify 1 or 2 key points or valuable insights you learned from \"Neural Networks and Deep Learning\"\n",
    "</div>"
   ]
  },
  {
   "cell_type": "code",
   "execution_count": null,
   "metadata": {},
   "outputs": [],
   "source": [
    "#_02\n",
    "\n",
    "_02 = \"\"\"\n",
    "As a cornerstone of ANNs, backpropagation uses neurons with continuous valued output,\n",
    "quantifying prediction error to then answer the \"Credit Assignment Problem\" (i.e. which\n",
    "node to adjust and by how much). Although this method has shaped the paradigm, a potential \n",
    "problem is the \"vanishing gradient problem\", where the error gets progressively smaller through\n",
    "the multi layer model, effectively hindering the network from further training/adjustment. Additionally,\n",
    "the derivative of the activation function must take on appropriate values in order to avoid facing the\n",
    "\"exploding gradient problem\" (large error accumulation for large updates create instability).\n",
    "\"\"\""
   ]
  },
  {
   "cell_type": "markdown",
   "metadata": {},
   "source": [
    "## Question 3:\n",
    "<div class=\"alert alert-block alert-success\">\n",
    "Identify 1 or 2 key points or valuable insights you learned from \"Developing Neural Network Models with Keras and Tensorflow\"\n",
    "</div>"
   ]
  },
  {
   "cell_type": "code",
   "execution_count": null,
   "metadata": {},
   "outputs": [],
   "source": [
    "#_03\n",
    "\n",
    "_03 = \"\"\"\n",
    "Creating a Keras model involves a sequence of layers, defining the layer\n",
    "connectivity by density, and specifying the activation function. Sigmoid\n",
    "and tanh functions were preferred for all layers in Tensorflow, however\n",
    "this has changed to use the rectified linear unit activation function (ReLU).\n",
    "Overfitting is a primary concern, many cases in which using a simpler model suffices\n",
    "and can often correct the issue. Additionally metrics and visualization besides accuracy\n",
    "and loss can be used to evaluate the model, such as confusion matrices and trend analysis.\n",
    "\"\"\""
   ]
  },
  {
   "cell_type": "markdown",
   "metadata": {},
   "source": [
    "## Question 4:\n",
    "<div class=\"alert alert-block alert-success\">\n",
    "Identify 1 or 2 key points or valuable insights you learned from \"Can We Model Meaning? Contextual Representation and Neural Word Embeddings\"\n",
    "</div>"
   ]
  },
  {
   "cell_type": "code",
   "execution_count": null,
   "metadata": {},
   "outputs": [],
   "source": [
    "#_04\n",
    "\n",
    "_04 = \"\"\"\n",
    "One of the key points from this section was seeing NLP as an attempt to use low-dimensional\n",
    "language representations in order to tokenize structures and find patterns to try and infer meaning.\n",
    "A fundamental part of this process is the usage of word embeddings, which are dense vectors defining the\n",
    "local semantic contexts of sentence components. Neural network models can then learn these embeddings, and\n",
    "then used in order to parse a given corpus and decompose its contents into classes. This process also enables\n",
    "computing the document distance to estimate the degree of similarity between different contents.\n",
    "\"\"\""
   ]
  },
  {
   "cell_type": "markdown",
   "metadata": {},
   "source": [
    "## Question 5:\n",
    "<div class=\"alert alert-block alert-success\">\n",
    "Identify 1 or 2 key points or valuable insights you learned from \"Named Entity Recognition, Transfer Learning, and Transformer Models\"\n",
    "</div>"
   ]
  },
  {
   "cell_type": "code",
   "execution_count": null,
   "metadata": {},
   "outputs": [],
   "source": [
    "#_05\n",
    "\n",
    "_05 = \"\"\"\n",
    "NER is the task of sifting through unstructured text data to identify real world entities\n",
    "that (could) have proper names. It allows annotating terms with labels that correspond with\n",
    "the appropriate entity.Transfer learning occurs in training a model for some data and then using for a\n",
    "different but related data. Using weight layers of the neural network model, the\n",
    "final output layer can be computed for a new task by using embedding similarities.\n",
    "While this was discovered earlier, transformer models have been more recent. Older RNNs used\n",
    "the property of word proximity to learn the textual dependencies and complex references, while\n",
    "transfomers replaced these to add positional encodings (retain sequence order) and multi-headed\n",
    "attention mechanisms to track parts of text independently (as opposed to sequentially).\n",
    "\"\"\""
   ]
  },
  {
   "cell_type": "markdown",
   "metadata": {},
   "source": [
    "## Question 6:\n",
    "\n",
    "<div class=\"alert alert-block alert-success\">\n",
    "Please write a (roughly) 5-sentence retrospective of your time in the course. What did you find the most valuable? What are the main things you're going to take away from this experience? \n",
    "</div>"
   ]
  },
  {
   "cell_type": "code",
   "execution_count": null,
   "metadata": {},
   "outputs": [],
   "source": [
    "#_06\n",
    "\n",
    "_06 = \"\"\"\n",
    "One of my favourite parts about this course was the kind of information we were working with, and\n",
    "the case studies which we were given to understand. Often times with the availability of\n",
    "these powerful tools, it can be hard to find a starting point for an appropriately complex task\n",
    "despite having the interest. To me, the most valuable aspect of the course was the thinking process\n",
    "it enabled, with the combination of relevant readings and interesting datasets. This helped create a way\n",
    "in which it was really easy to get going with the tools at hand! The main things I am going to take away\n",
    "from this experience is the ability to use modern libraries to visualize and gain insight on problems by\n",
    "computing \n",
    "that allow the inference of real life behaviours or attributes of a topic.\n",
    "\"\"\""
   ]
  },
  {
   "cell_type": "code",
   "execution_count": null,
   "metadata": {},
   "outputs": [],
   "source": [
    "## FINALIZE ASSIGNMENT\n",
    "\n",
    "import pickle as pkl\n",
    "\n",
    "module = 12\n",
    "\n",
    "response_dict = {\n",
    "    \"student_id\": student_id,\n",
    "    \"grad_student\": \"student\",\n",
    "    \"module\": module,\n",
    "    \"responses\": [\n",
    "        _01,\n",
    "        _02,\n",
    "        _03,\n",
    "        _04,\n",
    "        _05,\n",
    "        _06,\n",
    "    ],\n",
    "    \"code_cells\": In\n",
    "}\n",
    "\n",
    "module_string = f\"module_{response_dict['module']}\"\n",
    "filename = f\"{module_string}__student_{student_id}.pkl\"\n",
    "\n",
    "with open(f\"./{filename}\", 'wb') as stream:\n",
    "    pkl.dump(response_dict, stream)"
   ]
  }
 ],
 "metadata": {
  "kernelspec": {
   "display_name": "Python 3",
   "language": "python",
   "name": "python3"
  },
  "language_info": {
   "codemirror_mode": {
    "name": "ipython",
    "version": 3
   },
   "file_extension": ".py",
   "mimetype": "text/x-python",
   "name": "python",
   "nbconvert_exporter": "python",
   "pygments_lexer": "ipython3",
   "version": "3.8.5"
  }
 },
 "nbformat": 4,
 "nbformat_minor": 4
}
