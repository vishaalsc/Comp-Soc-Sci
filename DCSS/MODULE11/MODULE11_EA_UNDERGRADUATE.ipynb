{
 "cells": [
  {
   "cell_type": "markdown",
   "metadata": {},
   "source": [
    "<br><br><font color=\"gray\">DOING COMPUTATIONAL SOCIAL SCIENCE<br>MODULE 11 <strong>PROBLEM SETS</strong></font>\n",
    "\n",
    "# <font color=\"#49699E\" size=40>SUPERVISED LEARNING AND NEURAL NETWORKS</font>\n",
    "This module notebook assignment is organized into two parts. \n",
    "\n",
    "- **[PART A](#SECAEP) (Accompanying Chapter 21, \"Supervised Learning with Regression and Distance-Based Models\")**\n",
    "    - [Exercises and Practice Problems](#SECAEP) (All students)\n",
    "- **[PART B](#SECBEP) (Accompanying Chapter 22, \"Supervised Learning with Tree-Based Models\"**)\n",
    "    - [Exercises and Practice Problems](#SECBEP) (All students)"
   ]
  },
  {
   "cell_type": "markdown",
   "metadata": {},
   "source": [
    "# What You Need to Know Before Getting Started\n",
    "\n",
    "- **You can consult any resources you want when completing these exercises and problems**. Just as it is in the \"real world:\" if you can't figure out how to do something, look it up. My recommendation is that you check the relevant parts of the assigned reading or search for inspiration on [https://stackoverflow.com](https://stackoverflow.com).\n",
    "- **Each problem is worth 1 point**. All problems are equally weighted.\n",
    "- **The information you need for each problem set is provided in the blue and green cells.** General instructions / the problem set preamble are in the blue cells, and instructions for specific problems are in the green cells. **You have to execute all of the code in the problem set, but you are only responsible for entering code into the code cells that immediately follow a green cell**. You will also recognize those cells because they will be incomplete. You need to replace each `____` with the code that will make the cell execute properly.\n",
    "- **The comments in the problem cells contain clues indicating what the following line of code is supposed to do.** Use these comments as a guide when filling in the blanks. \n",
    "- **Each problem cell stores one object named according to the problem (e.g. _09)**. These are not important for you, but we use them to help grade your work efficiently, so **do not delete them or change their names**. If you do, you will lose marks.\n",
    "- **You can ask for help**. If you run into problems, you can reach out to John (john.mclevey@uwaterloo.ca) or Pierson (pbrowne@uwaterloo.ca) for help. You can ask a friend for help if you like, regardless of whether they are enrolled in the course.\n",
    "\n",
    "Finally, remember that you do not need to \"master\" this content before moving on to other course materials, as what is introduced here is reinforced throughout the rest of the course. You will have plenty of time to practice and cement your new knowledge and skills."
   ]
  },
  {
   "cell_type": "markdown",
   "metadata": {},
   "source": [
    "# How to Submit Your (Pickled) Assignment! \n",
    "\n",
    "Since we've had to rethink the way we deliver, collect, and evaluate these problem sets, we want to be very clear about what you need to do to properly submit this module notebook assignment. Please read the following explanation of our process so that you understand how this works, and what you need to do.\n",
    "\n",
    "At the very end of this notebook, there is a code cell that will compile all of your answers to every problem in the assignment and save them as a 'pickle' file (`.pkl`) in the current working directory. You can execute that cell as many times as you like. Each time you run it, it will overwrite the old pickle with your updated answers. **Once you've ensured that everything in the notebook is complete and finished to your satisfaction, it's up to you to get the pickle that you just created and upload it to the appropriate Learn dropbox for this module.** The file you are looking for will not exist until you run the cells at the end of the notebook. Once it has been created, it will follow this naming convention: \n",
    "\n",
    "> `module_[number]__student_[your_student_number].pkl`\n",
    "\n",
    "To be very clear, **you need to submit the pickle to Learn**. You do not need to upload the Jupyter Notebook as initially planned. **Just the pickle!**"
   ]
  },
  {
   "cell_type": "markdown",
   "metadata": {},
   "source": [
    "## Make Sure Everything is Good to Go\n",
    "\n",
    "It's generally a good idea to do a 'fresh' run of your entire notebook before you submit your assignment to make sure that everything is working as it should be. You can use the button with the 'Fast-Forward' arrows in the Jupyter toolbar above to restart the kernel (resetting everything to initial conditions) and running every code cell in the notebook, in order. You can also select 'Restart and Run All' from the Kernel dropdown menu. If the entire notebook runs without throwing any errors, you should be good to go!\n",
    "\n",
    "If you're running into issues, make sure that you haven't changed any of the 'answer' variable names we provided you with (e.g., we asked you to store your answer to the first question in a variable called `_01`). If you change an answer's variable name or don't store your answer in that variable, the project won't finalize properly and you won't get proper credit for your work. The same goes for the `student_id` metadata variable we ask you to complete immediately below; if any of those are missing, haven't been filled in properly, or have been renamed, issues may arise during the grading process and you will not receive proper credit. So make sure you enter your student information, and don't delete or change the names of the variables that store your answers to each problem!"
   ]
  },
  {
   "cell_type": "markdown",
   "metadata": {},
   "source": [
    "## IMPORTANT: ADD YOUR STUDENT ID NUMBER\n",
    "\n",
    "<div class=\"alert alert-block alert-danger\">\n",
    "To evaluate your work, we need you to provide your student number. In the cell below, <strong>replace '12345678' with your student number</strong>. The student_id' variable needs to be an integer, so <strong>do not wrap it in quotes.</strong>\n",
    "</div>"
   ]
  },
  {
   "cell_type": "code",
   "execution_count": 1,
   "metadata": {},
   "outputs": [],
   "source": [
    "# Your UWaterloo student ID number\n",
    "student_id = 20611274 "
   ]
  },
  {
   "cell_type": "markdown",
   "metadata": {},
   "source": [
    "## Package Imports"
   ]
  },
  {
   "cell_type": "code",
   "execution_count": 2,
   "metadata": {},
   "outputs": [],
   "source": [
    "import pandas as pd \n",
    "\n",
    "import numpy as np\n",
    "from numpy.random import seed\n",
    "\n",
    "import matplotlib.pyplot as plt\n",
    "import matplotlib as mpl\n",
    "import seaborn as sns\n",
    "\n",
    "from sklearn import preprocessing\n",
    "from sklearn.model_selection import train_test_split, cross_val_score, ShuffleSplit\n",
    "from sklearn.linear_model import LinearRegression, Ridge, Lasso, LogisticRegression\n",
    "from sklearn.tree import DecisionTreeClassifier\n",
    "from sklearn.ensemble import BaggingClassifier, RandomForestClassifier, GradientBoostingClassifier\n",
    "from sklearn.preprocessing import LabelEncoder, LabelBinarizer\n",
    "from sklearn.neighbors import KNeighborsClassifier\n",
    "from sklearn.feature_extraction.text import TfidfVectorizer\n",
    "\n",
    "from pprint import pprint\n",
    "\n",
    "seed(42)\n",
    "\n"
   ]
  },
  {
   "cell_type": "markdown",
   "metadata": {},
   "source": [
    "## Dataset Columns"
   ]
  },
  {
   "cell_type": "code",
   "execution_count": 3,
   "metadata": {},
   "outputs": [],
   "source": [
    "x_columns = [\n",
    "\n",
    "    # Religion and Morale\n",
    "    'v54', # Religious services? - 1=More than Once Per Week, 7=Never\n",
    "    'v149', # Do you justify: claiming state benefits? - 1=Never, 10=Always\n",
    "    'v150', # Do you justify: cheating on tax? - 1=Never, 10=Always \n",
    "    'v151', # Do you justify: taking soft drugs? - 1=Never, 10=Always \n",
    "    'v152', # Do you justify: taking a bribe? - 1=Never, 10=Always \n",
    "    'v153', # Do you justify: homosexuality? - 1=Never, 10=Always \n",
    "    'v154', # Do you justify: abortion? - 1=Never, 10=Always \n",
    "    'v155', # Do you justify: divorce? - 1=Never, 10=Always \n",
    "    'v156', # Do you justify: euthanasia? - 1=Never, 10=Always \n",
    "    'v157', # Do you justify: suicide? - 1=Never, 10=Always \n",
    "    'v158', # Do you justify: having casual sex? - 1=Never, 10=Always \n",
    "    'v159', # Do you justify: public transit fare evasion? - 1=Never, 10=Always \n",
    "    'v160', # Do you justify: prostitution? - 1=Never, 10=Always \n",
    "    'v161', # Do you justify: artificial insemination? - 1=Never, 10=Always \n",
    "    'v162', # Do you justify: political violence? - 1=Never, 10=Always \n",
    "    'v163', # Do you justify: death penalty? - 1=Never, 10=Always \n",
    "\n",
    "    # Politics and Society\n",
    "    'v97', # Interested in Politics? - 1=Interested, 4=Not Interested\n",
    "    'v121', # How much confidence in Parliament? - 1=High, 4=Low\n",
    "    'v126', # How much confidence in Health Care System? - 1=High, 4=Low\n",
    "    'v142', # Importance of Democracy - 1=Unimportant, 10=Important\n",
    "    'v143', # Democracy in own country - 1=Undemocratic, 10=Democratic\n",
    "    'v145', # Political System: Strong Leader - 1=Good, 4=Bad\n",
    "\n",
    "    # National Identity\n",
    "    'v170', # How proud are you of being a citizen? - 1=Proud, 4=Not Proud\n",
    "    'v184', # Immigrants: impact on development of country - 1=Bad, 5=Good\n",
    "    'v185', # Immigrants: take away jobs from Nation - 1=Take, 10=Do Not Take\n",
    "    'v198', # European Union Enlargement - 1=Should Go Further, 10=Too Far Already\n",
    "]\n",
    "\n",
    "y_columns = [\n",
    "    # Overview\n",
    "    'country',\n",
    "    \n",
    "    # Socio-demographics\n",
    "    'v226', # Year of Birth by respondent \n",
    "    'v261_ppp', # Household Monthly Net Income, PPP-Corrected\n",
    "]"
   ]
  },
  {
   "cell_type": "markdown",
   "metadata": {},
   "source": [
    "# <font color=\"#49699E\">PART A | CHAPTER 21</font>\n",
    "<a id=\"SECAEP\"></a>"
   ]
  },
  {
   "cell_type": "markdown",
   "metadata": {},
   "source": [
    "## Question 1:\n",
    "<div class=\"alert alert-block alert-info\">  \n",
    "For each of the parts in this assignment, we're going to closely mirror our progression through the various models in each of the corresponding chapters. It should come as no surprise, then, that we're going to start with some plain-old run-of-the-mill Ordinary Least Squares regression (approaching it from a Machine Learning perspective, of course). We'll start by seeing how effectively we can predict someone's year of birth using variables from the survey on the topics of Religion, Morality, Politics, Society, and National Identity.\n",
    "</div>\n",
    "<div class=\"alert alert-block alert-success\">\n",
    "Perform the following steps, in order:\n",
    "<ol>\n",
    "    <li> Load the EVS dataset (provided) \n",
    "    <li> Create a feature matrix containing all of the columns in <code>x_columns</code> and a vector containing the outcome variable, year of birth\n",
    "    <li> Perform a shuffled train-test split of the feature matrix and outcome vector random state of 42\n",
    "    <li> Create an instance of the <code>ShuffleSplit</code> class, with 5 splits, a test size of 0.2, and a random state of 42\n",
    "    <li> Using the <code>ShuffleSplit</code> instance, perform cross-validated linear regression on your training data \n",
    "    <li> Report the mean score from your cross-validated linear regression\n",
    "</ol>\n",
    "</div>"
   ]
  },
  {
   "cell_type": "code",
   "execution_count": 4,
   "metadata": {},
   "outputs": [
    {
     "name": "stdout",
     "output_type": "stream",
     "text": [
      "[0.15590317 0.16307872 0.15629859 0.15649739 0.15806234]\n",
      "Mean: 0.15796804282590388\n"
     ]
    }
   ],
   "source": [
    "#_01\n",
    "\n",
    "# Load 'evs_module_11.csv'\n",
    "df = pd.read_csv(\"data/evs_module_11.csv\")\n",
    "\n",
    "# Create a feature matrix using all of the column names in `x_columns`\n",
    "X = df[x_columns]\n",
    "\n",
    "# Create the outcome variable\n",
    "y = df['v226']\n",
    "\n",
    "\n",
    "# Perform a train-test split\n",
    "X_train, X_test, y_train, y_test = train_test_split(X, y, shuffle=True, random_state=42)\n",
    "\n",
    "# Create an instance of the shufflesplit class\n",
    "shuffsplit = ShuffleSplit(n_splits=5, test_size=0.2, random_state=42)\n",
    "\n",
    "# Retreieve the scores from a cross-validated linear regression\n",
    "olscv_score = cross_val_score(LinearRegression(), X_train, y_train, cv=shuffsplit)\n",
    "print(olscv_score)\n",
    "print(f\"Mean: {olscv_score.mean()}\")\n",
    "\n",
    "# DO NOT ALTER ANYTHING BELOW THIS LINE \n",
    "_01 = round(olscv_score.mean(), 2) "
   ]
  },
  {
   "cell_type": "markdown",
   "metadata": {},
   "source": [
    "## Question 2:\n",
    "<div class=\"alert alert-block alert-info\">  \n",
    "From the above results, it should be pretty clear that our OLS did <b>not</b> perform well. It's possible that this under-performance is as a result of overfitting. If so, we can use either ridge or lasso reguarlization to help dig our model out of its overfitting problem. It's also possible, however, that our model just isn't any good, and regularization won't be of much use. \n",
    "</div>\n",
    "<div class=\"alert alert-block alert-success\">\n",
    "Using 10 different alpha settings ranging from 0.01 to 2, perform 10 cross-validated ridge and lasso regressions (10 each). When performing the cross-vaildations, use the same instance of the <code>ShuffleSplit</code> class from the previous question. Plot the resulting cross-validated R2 scores from the 10 ridge and 10 lasso models and compare them to the baseline R2 score from the unregularized OLS model. Examine the plot to determine if the model from Q1 is <b>significantly</b> overfitting the data. Submit your answer as a <b>BOOLEAN</b> value. If your answer is anything other than a boolean value, you will recieve no credit for this question. \n",
    "</div>"
   ]
  },
  {
   "cell_type": "code",
   "execution_count": 5,
   "metadata": {},
   "outputs": [
    {
     "data": {
      "image/png": "[encoded data removed]",
      "text/plain": [
       "<Figure size 432x288 with 1 Axes>"
      ]
     },
     "metadata": {
      "needs_background": "light"
     },
     "output_type": "display_data"
    }
   ],
   "source": [
    "#_02\n",
    "\n",
    "# Create array of alpha values \n",
    "alphas = np.linspace(0.01, 2, 10)\n",
    "\n",
    "ridge_r2s = []\n",
    "lasso_r2s = []\n",
    "\n",
    "# Iterate over alpha values, run cross-validated ridge and lasso regressions for each alpha, and save *average* of scores\n",
    "for alpha in alphas:\n",
    "    new_ridge = Ridge(alpha)\n",
    "    ridge_r2s.append(cross_val_score(new_ridge, X_train, y_train, cv=shuffsplit).mean())\n",
    "    \n",
    "    new_lasso = Lasso(alpha)\n",
    "    lasso_r2s.append(cross_val_score(new_lasso, X_train, y_train, cv=shuffsplit).mean())\n",
    "\n",
    "# Combine scores into dataframe for easy plotting\n",
    "r2s = pd.DataFrame(\n",
    "    zip(alphas, ridge_r2s, lasso_r2s), \n",
    "    columns = [\"alpha\", \"ridge\", \"lasso\"])\n",
    "\n",
    "# Plot scores\n",
    "fig, ax = plt.subplots()\n",
    "sns.lineplot(x=\"alpha\", y=\"ridge\", data = r2s, label=\"Ridge\", linestyle='solid')\n",
    "sns.lineplot(x=\"alpha\", y=\"lasso\", data = r2s, label = \"Lasso\", linestyle='dashed')\n",
    "ax.axhline(olscv_score.mean(), label=\"OLS\", linestyle='dotted', color=\"darkgray\")\n",
    "ax.set(xlabel='alpha values for Ridge and Lasso Regressions', ylabel='R2')\n",
    "sns.despine()\n",
    "ax.legend()\n",
    "plt.show()\n",
    "\n",
    "# Submit a *BOOLEAN VALUE* indicating whether or not you think the Q1 model was overfitting.\n",
    "is_q1_overfitting = False\n",
    "\n",
    "# DO NOT ALTER ANYTHING BELOW THIS LINE \n",
    "_02 = is_q1_overfitting"
   ]
  },
  {
   "cell_type": "markdown",
   "metadata": {},
   "source": [
    "## Question 3:\n",
    "<div class=\"alert alert-block alert-info\">  \n",
    "Regardless of how Question 2 turned out, it's pretty clear that a garden-variety OLS model isn't going to be the best choice for predicting the survey respondents' years of birth. Let's see if we can do better with a Logistic Regression instead. To accomplish this, we're going to categorize everyone in the dataset as either being born after (1) or before (0) 1970 (those born in 1970 also count as 'before'). \n",
    "</div>\n",
    "<div class=\"alert alert-block alert-success\">\n",
    "Create a vector containing an outcome variable indicating whether or not each respondent was born after (1), before (0), or during (0) the year 1970. Using this new outcome vector and a remade feature matrix (again, using all of the columns from `x_columns`), create a shuffled train-test split and a ShuffleSplit with 5 splits and a test size of 0.2. Both the train-test split and ShuffleSplit should use a random state of 42. <br>\n",
    "    Once all of this is done, run a cross-validated Logistic Regression (with <code>max_iter=1000</code>, which will help it converge) using your new training data and <code>ShuffleSplit</code>.\n",
    "</div>"
   ]
  },
  {
   "cell_type": "code",
   "execution_count": 6,
   "metadata": {},
   "outputs": [
    {
     "name": "stdout",
     "output_type": "stream",
     "text": [
      "[0.6569697  0.64565657 0.62545455 0.64727273 0.64686869]\n",
      "Mean: 0.6444444444444445\n"
     ]
    }
   ],
   "source": [
    "#_03\n",
    "\n",
    "# Delete existing variables to prevent use of incorrect data \n",
    "try:\n",
    "    del X_train\n",
    "    del X_test\n",
    "    del y_train\n",
    "    del y_test\n",
    "    del X\n",
    "    del y\n",
    "except:\n",
    "    pass\n",
    "\n",
    "\n",
    "\n",
    "# Create a feature matrix using all of the column names in `x_columns`\n",
    "X = df[x_columns] \n",
    "\n",
    "# Create the outcome variable\n",
    "y = np.where(df['v226'] <= 1970, 0, 1)\n",
    "\n",
    "# Perform a train-test split\n",
    "X_train, X_test, y_train, y_test = train_test_split(X, y, shuffle=True, random_state=42)\n",
    "\n",
    "# Create an instance of the shufflesplit class\n",
    "shuffsplit = ShuffleSplit(n_splits=5, test_size=0.2, random_state=42)\n",
    "\n",
    "\n",
    "# Retreieve the scores from a cross-validated logistic regression\n",
    "log_reg_scores = cross_val_score(\n",
    "    LogisticRegression(max_iter=1000), \n",
    "    X_train, \n",
    "    y_train, \n",
    "    cv=shuffsplit)\n",
    "\n",
    "print(log_reg_scores)\n",
    "print(f\"Mean: {log_reg_scores.mean()}\")\n",
    "\n",
    "# DO NOT ALTER ANYTHING BELOW THIS LINE \n",
    "_03 =  round(log_reg_scores.mean(), 2) "
   ]
  },
  {
   "cell_type": "markdown",
   "metadata": {},
   "source": [
    "## Question 4:\n",
    "<div class=\"alert alert-block alert-success\">\n",
    "Find the three most impactful predictors from your logistic regression, as measured by the magnitude of the coefficient. Use the comments in the `x_columns` variable definition (at the start of the assignment) to figure out what each of these variables indicate, what their scales are, and what each end of their respective scales imply. In 3 sentences (one sentence per variable), describe what these three variables tell us -- in general -- about people who are more likely to have been born after 1970. \n",
    "</div>"
   ]
  },
  {
   "cell_type": "code",
   "execution_count": 7,
   "metadata": {},
   "outputs": [
    {
     "name": "stdout",
     "output_type": "stream",
     "text": [
      "[ 0.01618635  0.02544146  0.00332991  0.14287511 -0.01874159  0.03203935\n",
      " -0.0592861   0.00737172 -0.02178793 -0.02456733  0.12866259  0.10147299\n",
      " -0.07405794  0.02218695 -0.01422646  0.01181022  0.3627445   0.02600305\n",
      "  0.04017589 -0.04163818  0.01560568 -0.13221392  0.04239296  0.09724605\n",
      "  0.00582415 -0.05679651]\n",
      "[0.3627445001340641, 0.14287511191751912, 0.12866259084458392]\n"
     ]
    }
   ],
   "source": [
    "#_04\n",
    "\n",
    "# Fit a logistic regression on all of the training data\n",
    "log_reg = LogisticRegression(max_iter=1000, random_state=42)\n",
    "log_reg.fit(X_train, y_train)\n",
    "\n",
    "# Find the three coefficients in the model with the highest magnitude (go about doing so however you like)\n",
    "print(log_reg.coef_[0])\n",
    "coeffs = sorted(log_reg.coef_[0], reverse=True)[:3]\n",
    "print(coeffs)\n",
    "\n",
    "# Write your answers in the provided docstring:\n",
    "_04 = \"\"\"\n",
    "Sorting the list of logistic regression coefficients to find the top 3,\n",
    "the most impactful predictors have values of 0.36274, 0.14287, and 0.12866\n",
    "corresponding to EVS predictors v97 (Interested in Politics), v151 (Justify\n",
    "taking soft drugs?), and v158 (Justify having casual sex?) respectively.\n",
    "From the scale of these 3, it can be inferred that people more likely to\n",
    "have been born after 1970 will generally be interested in politics,\n",
    "justify taking soft drugs, as well as having casual sex.\n",
    "\"\"\" \n",
    "\n"
   ]
  },
  {
   "cell_type": "markdown",
   "metadata": {},
   "source": [
    "# <font color=\"#49699E\">PART B | CHAPTER 22</font>\n",
    "<a id=\"SECBEP\"></a>"
   ]
  },
  {
   "cell_type": "markdown",
   "metadata": {},
   "source": [
    "## Question 5:\n",
    "<div class=\"alert alert-block alert-info\">  \n",
    "Now that we've spent some time classifying people by year of birth, it's time to move onto a much trickier classification task! For the entirety of this section, we're going to see how well each of the various classification methods we introduced in Chapter 22 can classify EVS respondents by their country of origin. Since there are 33 countries in the dataset, and the difficulty of classification scales with the number of labels, we shouldn't expect much in the way of miraculous performances here. Even an accuracy score of .3 is notable, as it is about 10 times greater than the accuracy score we would expect if our model were guessing purely at random. <br><br>We're going to start with a basic decision tree and -- assuming that it isn't going to do a great job -- immediately move onto a regularized decision tree. Feel free to tweak the regularization parameters on your regularized decision tree in whatever manner you like; your primary goal for this question is to produce a regularized tree that performs better that its unregularized counterpart, as judged by accuracy score. \n",
    "</div>\n",
    "<div class=\"alert alert-block alert-success\">\n",
    "Perform the following steps, in order:\n",
    "<ol>\n",
    "    <li> Create a feature matrix containing all of the columns in <code>x_columns</code> and a vector containing the outcome variable, <code>country</code>\n",
    "    <li> Perform a stratified, shuffled train-test split of the feature matrix and outcome vector random state of 1\n",
    "    <li> Create an instance of the <code>ShuffleSplit</code> class, with 5 splits, a test size of 0.1, and a random state of 1\n",
    "    <li> Using the <code>ShuffleSplit</code> instance, cross-validate a default decision tree on your training data \n",
    "    <li> Use regularization parameters to create a regularized decision tree that outperforms the basic decision tree based on cross-validated accuracy score (using the same  <code>ShuffleSplit</code> as before)\n",
    "</ol>\n",
    "</div>"
   ]
  },
  {
   "cell_type": "code",
   "execution_count": 8,
   "metadata": {},
   "outputs": [
    {
     "name": "stdout",
     "output_type": "stream",
     "text": [
      "[0.17124394 0.16801292 0.1631664  0.17447496 0.1914378 ]\n",
      "Mean: 0.17366720516962844\n",
      "[0.17124394 0.16801292 0.1631664  0.17447496 0.1914378 ]\n",
      "Mean: 0.10985460420032311\n"
     ]
    }
   ],
   "source": [
    "#_05\n",
    "\n",
    "# Delete existing variables to prevent use of incorrect data \n",
    "try:\n",
    "    del X_train\n",
    "    del X_test\n",
    "    del y_train\n",
    "    del y_test\n",
    "    del X\n",
    "    del y\n",
    "except:\n",
    "    pass\n",
    "\n",
    "\n",
    "# Create a feature matrix using all of the column names in `x_columns`\n",
    "X = df[x_columns] \n",
    "\n",
    "\n",
    "# Create the outcome variable\n",
    "y = np.array(df.country)\n",
    "\n",
    "# Perform a stratified train-test split\n",
    "X_train, X_test, y_train, y_test = train_test_split(\n",
    "    X, \n",
    "    y, \n",
    "    shuffle=True, \n",
    "    random_state=1,\n",
    "    stratify=y\n",
    ")\n",
    "\n",
    "# Create an instance of the shufflesplit class\n",
    "shuffsplit = ShuffleSplit(n_splits=5, test_size=0.1, random_state=1)\n",
    "\n",
    "# Create a decision tree classifier and get the cross-validated scores therefrom\n",
    "dtclass = DecisionTreeClassifier(random_state=42)\n",
    "dt_scores = cross_val_score(dtclass, X_train, y_train, cv=shuffsplit)\n",
    "\n",
    "print(dt_scores)\n",
    "print(f\"Mean: {dt_scores.mean()}\")\n",
    "\n",
    "\n",
    "# Create a regularized (or pruned) decision tree classifier and get the cross-validated scores therefrom\n",
    "dtclass_pruned = DecisionTreeClassifier(max_depth=3, min_samples_leaf=1, random_state=42)\n",
    "dt_pruned_scores = cross_val_score(dtclass_pruned, X_train, y_train, cv=shuffsplit)\n",
    "print(dt_scores)\n",
    "print(f\"Mean: {dt_pruned_scores.mean()}\")\n",
    "\n",
    "# DO NOT ALTER ANYTHING BELOW THIS LINE \n",
    "_05 = (dt_scores.mean() < dt_pruned_scores.mean()) "
   ]
  },
  {
   "cell_type": "markdown",
   "metadata": {},
   "source": [
    "## Question 6:\n",
    "<div class=\"alert alert-block alert-info\">  \n",
    "Let's now give the same treatment to two of the ensemble methods we learned about: Random Forest and Gradient Boosted Trees.\n",
    "</div>\n",
    "<div class=\"alert alert-block alert-success\">\n",
    "Run a cross-validated Random Forest Classifier with 100 estimators, 2 maximum features, and a random state of 42. Then, run a cross-validated Gradient Boosted Trees Classifier with 10 estimators and a random state of 42. Assess the accuracy scores from both cross-validations to determine whether the Gradient Boosted Trees Classifier outperformed the Random Forest Classifier. Submit your answer as a <b>BOOLEAN</b> value. If your answer is anything other than a boolean value, you will recieve no credit for this question. \n",
    "</div>"
   ]
  },
  {
   "cell_type": "code",
   "execution_count": 9,
   "metadata": {},
   "outputs": [
    {
     "name": "stdout",
     "output_type": "stream",
     "text": [
      "[0.35621971 0.36025848 0.34410339 0.33521809 0.36268174]\n",
      "Mean: 0.3516962843295638\n",
      "[0.2552504  0.27544426 0.27463651 0.25121163 0.25605816]\n",
      "Mean: 0.2625201938610663\n"
     ]
    }
   ],
   "source": [
    "#_06\n",
    "\n",
    "\n",
    "# Create a random forest classifier and get the cross-validated scores therefrom\n",
    "rforest = RandomForestClassifier(n_estimators=100,\n",
    "                                max_features=2,\n",
    "                                random_state=42)\n",
    "\n",
    "rforest_scores = cross_val_score(rforest, X_train, y_train, cv=shuffsplit)\n",
    "print(rforest_scores)\n",
    "print(f\"Mean: {rforest_scores.mean()}\")\n",
    "\n",
    "\n",
    "# Create a gradient boosted trees classifier and get the cross-validated scores therefrom\n",
    "gboost = GradientBoostingClassifier(n_estimators=10,\n",
    "                                random_state=42)\n",
    "\n",
    "gboost_scores = cross_val_score(gboost, X_train, y_train, cv=shuffsplit)\n",
    "print(gboost_scores)\n",
    "print(f\"Mean: {gboost_scores.mean()}\")\n",
    "\n",
    "# Submit a *BOOLEAN VALUE* indicating whether Gradient Boosted Trees Classifier outperformed the Random Forest Classifier\n",
    "did_gradient_outperform_rforest = False\n",
    "\n",
    "# DO NOT ALTER ANYTHING BELOW THIS LINE \n",
    "_06 = did_gradient_outperform_rforest"
   ]
  },
  {
   "cell_type": "markdown",
   "metadata": {},
   "source": [
    "## Question 7:\n",
    "<div class=\"alert alert-block alert-success\">\n",
    "Run a cross-validated K-Nearest Neighbour classifier, setting <code>K</code> to 20. Report the mean cross-validated accuracy score (this will be done automatically).\n",
    "</div>"
   ]
  },
  {
   "cell_type": "code",
   "execution_count": 10,
   "metadata": {},
   "outputs": [
    {
     "name": "stdout",
     "output_type": "stream",
     "text": [
      "[0.26655897 0.25363489 0.25686591 0.25928918 0.25767367]\n",
      "Mean: 0.2588045234248788\n"
     ]
    }
   ],
   "source": [
    "#_07\n",
    "\n",
    "# Create a k-nearest-neighbour classifier and get the cross-validated scores therefrom\n",
    "knn_model = KNeighborsClassifier(n_neighbors=20)\n",
    "knn_scores = cross_val_score(knn_model, X_train, y_train, cv=shuffsplit)\n",
    "print(knn_scores)\n",
    "print(f\"Mean: {knn_scores.mean()}\")\n",
    "\n",
    "# DO NOT ALTER ANYTHING BELOW THIS LINE \n",
    "_07 = knn_scores.mean() "
   ]
  },
  {
   "cell_type": "markdown",
   "metadata": {},
   "source": [
    "## Question 8:\n",
    "<div class=\"alert alert-block alert-info\">  \n",
    "Throughout this section, we've used cross-validation to assess how our models have performed. This means that we have an as-of-yet untouched set of test data that we can use to make a final model selection. In this question, we're going to ask you to indicate which of the five classifiers we explored in this section achieved the highest cross-validated accuracy. Then, after fitting each classifier to the full training data and assessing their performance in light of the held-out test data, we'll ask you to report which of our candidate models achieves the highest accuracy. \n",
    "</div>\n",
    "<div class=\"alert alert-block alert-success\">\n",
    "Perform the following steps, in order:\n",
    "<ol>\n",
    "    <li> Submit a string containing the name of the model that achieved the highest cross-validated accuracy in this section\n",
    "    <li> Fit each of the five models on the entire training dataset\n",
    "    <li> Assess each of the fitted models' scores on the held-out test data\n",
    "    <li> Submit a string containing the name of the model that achieved the highest test accuracy in this section \n",
    "</ol>\n",
    "</div>"
   ]
  },
  {
   "cell_type": "code",
   "execution_count": 11,
   "metadata": {},
   "outputs": [
    {
     "name": "stdout",
     "output_type": "stream",
     "text": [
      "0.18351515151515152\n",
      "0.11563636363636363\n",
      "0.3713939393939394\n",
      "0.2824242424242424\n",
      "0.26666666666666666\n"
     ]
    }
   ],
   "source": [
    "#_08\n",
    "\n",
    "# Indicate which classifier achieved the highest cross-validated accuracy\n",
    "best_model_by_cv = \"Random Forest Classifier\"\n",
    "\n",
    "# Create list of all of the models\n",
    "part_b_models =[\n",
    "    dtclass,\n",
    "    dtclass_pruned,\n",
    "    rforest,\n",
    "    gboost,\n",
    "    knn_model]\n",
    "\n",
    "\n",
    "# Iterate over list of models, fit each one on the training data, and then assess score on the test data\n",
    "for model in part_b_models:\n",
    "    model.fit(X_train, y_train)\n",
    "    print(model.score(X_test, y_test))\n",
    "    \n",
    "# Indicate which classifier acheived the highest test accuracy \n",
    "best_model_by_test = \"Random Forest Classifier\"\n",
    "\n",
    "# DO NOT ALTER ANYTHING BELOW THIS LINE \n",
    "_08 = (best_model_by_cv.lower().split(\" \")[0], best_model_by_test.lower().split(\" \")[0])"
   ]
  },
  {
   "cell_type": "code",
   "execution_count": 12,
   "metadata": {},
   "outputs": [],
   "source": [
    "## FINALIZE ASSIGNMENT\n",
    "\n",
    "import pickle as pkl\n",
    "\n",
    "module = 11\n",
    "\n",
    "response_dict = {\n",
    "    \"student_id\": student_id,\n",
    "    \"grad_student\": \"EA_undergrad\",\n",
    "    \"module\": module,\n",
    "    \"responses\": [\n",
    "        _01,\n",
    "        _02,\n",
    "        _03,\n",
    "        _04,\n",
    "        _05,\n",
    "        _06,\n",
    "        _07,\n",
    "        _08,\n",
    "    ],\n",
    "    \"code_cells\": In\n",
    "}\n",
    "\n",
    "module_string = f\"module_{response_dict['module']}\"\n",
    "filename = f\"{module_string}__student_{student_id}.pkl\"\n",
    "\n",
    "with open(f\"./{filename}\", 'wb') as stream:\n",
    "    pkl.dump(response_dict, stream)"
   ]
  },
  {
   "cell_type": "code",
   "execution_count": null,
   "metadata": {},
   "outputs": [],
   "source": []
  }
 ],
 "metadata": {
  "kernelspec": {
   "display_name": "Python 3",
   "language": "python",
   "name": "python3"
  },
  "language_info": {
   "codemirror_mode": {
    "name": "ipython",
    "version": 3
   },
   "file_extension": ".py",
   "mimetype": "text/x-python",
   "name": "python",
   "nbconvert_exporter": "python",
   "pygments_lexer": "ipython3",
   "version": "3.8.5"
  }
 },
 "nbformat": 4,
 "nbformat_minor": 4
}
