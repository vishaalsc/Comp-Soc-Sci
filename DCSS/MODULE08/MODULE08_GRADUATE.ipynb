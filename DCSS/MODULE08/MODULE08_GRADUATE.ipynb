{
 "cells": [
  {
   "cell_type": "markdown",
   "metadata": {},
   "source": [
    "<br><br><font color=\"gray\">DOING COMPUTATIONAL SOCIAL SCIENCE<br>MODULE 8 <strong>PROBLEM SETS</strong></font>\n",
    "\n",
    "# <font color=\"#49699E\" size=40>Social Network Analysis</font>\n",
    "This module notebook assignment is organized into two parts. \n",
    "\n",
    "- **[PART A](#SECAEP) (Accompanying Chapter 18, \"Social Networks and Relational Thinking\")**\n",
    "    - [Exercises and Practice Problems](#SECAEP) (All students)\n",
    "- **[PART B](#SECBEP) (Accompanying Chapter 19, \"Centrality\"**)\n",
    "    - [Exercises and Practice Problems](#SECBEP) (All students)\n",
    "- **[PART C](#SECCEP) (Accompanying Chapter 20, \"Connection, Cohesion, and Equivalence\"**)\n",
    "    - [Exercises and Practice Problems](#SECBEP) (All students)"
   ]
  },
  {
   "cell_type": "markdown",
   "metadata": {},
   "source": [
    "# What You Need to Know Before Getting Started\n",
    "\n",
    "- **You can consult any resources you want when completing these exercises and problems**. Just as it is in the \"real world:\" if you can't figure out how to do something, look it up. My recommendation is that you check the relevant parts of the assigned reading or search for inspiration on [https://stackoverflow.com](https://stackoverflow.com).\n",
    "- **Each problem is worth 1 point**. All problems are equally weighted.\n",
    "- **The information you need for each problem set is provided in the blue and green cells.** General instructions / the problem set preamble are in the blue cells, and instructions for specific problems are in the green cells. **You have to execute all of the code in the problem set, but you are only responsible for entering code into the code cells that immediately follow a green cell**. You will also recognize those cells because they will be incomplete. You need to replace each `____` with the code that will make the cell execute properly.\n",
    "- **The comments in the problem cells contain clues indicating what the following line of code is supposed to do.** Use these comments as a guide when filling in the blanks. \n",
    "- **Each problem cell stores one object named according to the problem (e.g. _09)**. These are not important for you, but we use them to help grade your work efficiently, so **do not delete them or change their names**. If you do, you will lose marks.\n",
    "- **You can ask for help**. If you run into problems, you can reach out to John (john.mclevey@uwaterloo.ca) or Pierson (pbrowne@uwaterloo.ca) for help. You can ask a friend for help if you like, regardless of whether they are enrolled in the course.\n",
    "\n",
    "Finally, remember that you do not need to \"master\" this content before moving on to other course materials, as what is introduced here is reinforced throughout the rest of the course. You will have plenty of time to practice and cement your new knowledge and skills."
   ]
  },
  {
   "cell_type": "markdown",
   "metadata": {},
   "source": [
    "# How to Submit Your (Pickled) Assignment! \n",
    "\n",
    "Since we've had to rethink the way we deliver, collect, and evaluate these problem sets, we want to be very clear about what you need to do to properly submit this module notebook assignment. Please read the following explanation of our process so that you understand how this works, and what you need to do.\n",
    "\n",
    "At the very end of this notebook, there is a code cell that will compile all of your answers to every problem in the assignment and save them as a 'pickle' file (`.pkl`) in the current working directory. You can execute that cell as many times as you like. Each time you run it, it will overwrite the old pickle with your updated answers. **Once you've ensured that everything in the notebook is complete and finished to your satisfaction, it's up to you to get the pickle that you just created and upload it to the appropriate Learn dropbox for this module.** The file you are looking for will not exist until you run the cells at the end of the notebook. Once it has been created, it will follow this naming convention: \n",
    "\n",
    "> `module_[number]__student_[your_student_number].pkl`\n",
    "\n",
    "To be very clear, **you need to submit the pickle to Learn**. You do not need to upload the Jupyter Notebook as initially planned. **Just the pickle!**"
   ]
  },
  {
   "cell_type": "markdown",
   "metadata": {},
   "source": [
    "## Make Sure Everything is Good to Go\n",
    "\n",
    "It's generally a good idea to do a 'fresh' run of your entire notebook before you submit your assignment to make sure that everything is working as it should be. You can use the button with the 'Fast-Forward' arrows in the Jupyter toolbar above to restart the kernel (resetting everything to initial conditions) and running every code cell in the notebook, in order. You can also select 'Restart and Run All' from the Kernel dropdown menu. If the entire notebook runs without throwing any errors, you should be good to go!\n",
    "\n",
    "If you're running into issues, make sure that you haven't changed any of the 'answer' variable names we provided you with (e.g., we asked you to store your answer to the first question in a variable called `_01`). If you change an answer's variable name or don't store your answer in that variable, the project won't finalize properly and you won't get proper credit for your work. The same goes for the `student_id` metadata variable we ask you to complete immediately below; if any of those are missing, haven't been filled in properly, or have been renamed, issues may arise during the grading process and you will not receive proper credit. So make sure you enter your student information, and don't delete or change the names of the variables that store your answers to each problem!"
   ]
  },
  {
   "cell_type": "markdown",
   "metadata": {},
   "source": [
    "## IMPORTANT: ADD YOUR STUDENT ID NUMBER\n",
    "\n",
    "<div class=\"alert alert-block alert-danger\">\n",
    "To evaluate your work, we need you to provide your student number. In the cell below, <strong>replace '12345678' with your student number</strong>. The student_id' variable needs to be an integer, so <strong>do not wrap it in quotes.</strong>\n",
    "</div>"
   ]
  },
  {
   "cell_type": "code",
   "execution_count": null,
   "metadata": {},
   "outputs": [],
   "source": [
    "# Your UWaterloo student ID number\n",
    "student_id = 12345678 "
   ]
  },
  {
   "cell_type": "markdown",
   "metadata": {},
   "source": [
    "## Package Imports"
   ]
  },
  {
   "cell_type": "code",
   "execution_count": null,
   "metadata": {},
   "outputs": [],
   "source": [
    "import networkx as nx\n",
    "from matplotlib import pyplot as plt\n",
    "from pprint import pprint\n",
    "import community\n",
    "import pandas as pd\n",
    "from sklearn.metrics.pairwise import euclidean_distances\n",
    "from scipy.cluster import hierarchy"
   ]
  },
  {
   "cell_type": "markdown",
   "metadata": {},
   "source": [
    "# <font color=\"#49699E\">PREAMBLE</font>\n",
    "\n",
    "<div class=\"alert alert-block alert-info\">\n",
    "\n",
    "Just as in Module 5, you're not going to be able to find all of the answers in the course readings. Chapters 18, 19, and 20 will get you most of the way there, but they won't be enough by themselves. At several points, you're going to be required to delve into the <code>networkx</code> documentation to find methods that will be crucial to the tasks contained in this assignment. We'll provide you with a link to the <code>networkx</code> documentation, but don't be afraid to use a regular web search; something as simple as 'networkx karate' might be all you need!\n",
    "</div>\n",
    "\n",
    "<code>networkx</code> Documentation: https://networkx.org/documentation/stable/reference/index.html"
   ]
  },
  {
   "cell_type": "markdown",
   "metadata": {},
   "source": [
    "# <font color=\"#49699E\">PART A | CHAPTER 18</font>\n",
    "<a id=\"SECAEP\"></a>"
   ]
  },
  {
   "cell_type": "markdown",
   "metadata": {},
   "source": [
    "## Question 1:\n",
    "<div class=\"alert alert-block alert-info\">  \n",
    "Since our first chapter on social network analysis is more conceptual than computational, we're going to start out by giving you an opportunity to familiarize yourself with network methods <i>using your own social network</i>! We'll do this in two phases. In the first phase, you're going to create a python dictionary and populate it with the names of the friends and family you've interacted with (define 'interacted' however you like) over the past calendar month. In the second phase, you're going to think through all of the people you included in your ego network and add links between those who interacted directly with one another. The end result will be an ego network!\n",
    "</div>\n",
    "<div class=\"alert alert-block alert-success\">\n",
    "Populate a python dictionary with key-value pairs, where each key is the name of either yourself or someone in your ego network, and each value is a list of names corresponding to the others in your ego network that the key has interacted with over the past month. Don't include any more than 20 names in this network (although the same name can appear more than once, so there may be more than 20 lines in your dictionary). You don't need to include both sides of a network tie (i.e. <code>{\"Me\": [\"My Dog\", \"My Cat\"]}</code> is enough to build a two-way tie between me and my cat; I DON'T need to then create an entry like <code>{\"My Cat\": [\"Me\"]}</code>, although doing so won't do any harm). Be sure to remove all of the Simpsons references from the final product. Submit your Simpsons-free dictionary-based ego network. \n",
    "</div>"
   ]
  },
  {
   "cell_type": "code",
   "execution_count": null,
   "metadata": {},
   "outputs": [],
   "source": [
    "#_01\n",
    "\n",
    "# Create your ego network, starting by entering your own name\n",
    "# as a key, and using a list of names as the value\n",
    "my_ego_net = {\n",
    "    \n",
    "    # For this example, we'll use Lisa as our ego.\n",
    "    \"Lisa Simpson\": [\n",
    "        \"Bart Simpson\", \n",
    "        \"Homer Simpson\", \n",
    "        \"Marge Simpson\", \n",
    "        \"Maggie Simpson\",\n",
    "        \"Professor Frink\",\n",
    "        \"Dr. Nick\",\n",
    "        \"Ralph Wiggum\",\n",
    "        \"Chief Wiggum\",\n",
    "    ],\n",
    "    \n",
    "    # Lisa tries to think about the interactions those \n",
    "    # in her ego net have had lately...\n",
    "    \"Ralph Wiggum\": [\n",
    "        \"Bart Simpson\",\n",
    "        \"Chief Wiggum\",\n",
    "    ],\n",
    "    \n",
    "    \"Chief Wiggum\": [\n",
    "        \"Dr. Nick\"\n",
    "    ],\n",
    "    \n",
    "    # Lisa knows Bart and Ralph have interacted,\n",
    "    # but there's no need for another tie here because\n",
    "    # it's already covered in Ralph's entry\n",
    "    \"Bart Simpson\": [\n",
    "        \"Homer Simpson\",\n",
    "        \"Marge Simpson\",\n",
    "        \"Maggie Simpson\",\n",
    "    ],\n",
    "    \n",
    "    \"Marge Simpson\": [\n",
    "        \"Homer Simpson\",\n",
    "        \"Maggie Simpson\"\n",
    "    ],\n",
    "    \n",
    "    \"Homer Simpson\": [\n",
    "        \"Maggie Simpson\"\n",
    "    ],\n",
    "}\n",
    "\n",
    "# Store the result in the assignment variable\n",
    "_01 = my_ego_net # do not change this variable name"
   ]
  },
  {
   "cell_type": "markdown",
   "metadata": {},
   "source": [
    "## Question 2:\n",
    "<div class=\"alert alert-block alert-info\">  \n",
    "The dictionary layout we used in the question above was simply for the sake of convenience; now, it's time to load the information we generated above into a <code>networkx</code> object. We're going to give you lots of leeway as to how you accomplish this (the <code>networkx</code> documentation will be your friend here), but you should know that there IS a way to do it in just one line of code!  \n",
    "</div>\n",
    "<div class=\"alert alert-block alert-success\">\n",
    "Use your python coding skills to convert your ego network dictionary into a networkx object that contains all of the same nodes and edges.\n",
    "</div>"
   ]
  },
  {
   "cell_type": "code",
   "execution_count": null,
   "metadata": {},
   "outputs": [],
   "source": [
    "#_02\n",
    "\n",
    "# Convert your ego network into networkx format\n",
    "nx_ego = nx._____._____(_____)\n",
    "\n",
    "# Store the result in the assignment variable\n",
    "_02 = nx_ego # do not change this variable name"
   ]
  },
  {
   "cell_type": "markdown",
   "metadata": {},
   "source": [
    "## Question 3:\n",
    "<div class=\"alert alert-block alert-info\">  \n",
    "One useful aspect of ego networks is that they tend to be easy to visualize. We're going to do that now: you might find some the overall structure somewhat surprising!\n",
    "</div>\n",
    "<div class=\"alert alert-block alert-success\">\n",
    "Visualize your networkx-based ego network using a Fruchtermann-Reingold layout. Submit your visualization.\n",
    "</div>"
   ]
  },
  {
   "cell_type": "code",
   "execution_count": null,
   "metadata": {},
   "outputs": [],
   "source": [
    "#_03\n",
    "\n",
    "# Choose the layout for your ego network\n",
    "pos = nx._____(_____, seed=42)\n",
    "\n",
    "fig, ax = plt._____(figsize=(12, 12))\n",
    "\n",
    "nx.draw_networkx_labels(\n",
    "    _____, \n",
    "    pos,\n",
    "    ax=ax,\n",
    "    bbox = {\"ec\": \"k\", \"fc\":\"white\"}\n",
    ")\n",
    "\n",
    "nx.draw(\n",
    "    _____, \n",
    "    pos,\n",
    "    ax=ax,\n",
    "    node_color=\"white\",\n",
    ")\n",
    "\n",
    "ax.margins(0.3)\n",
    "\n",
    "# Store the result in the assignment variable\n",
    "_03 = fig # do not change this variable name"
   ]
  },
  {
   "cell_type": "markdown",
   "metadata": {},
   "source": [
    "## Question 4:\n",
    "<div class=\"alert alert-block alert-info\">  \n",
    "We're going to be a little cruel with this question: rather than simply answering a single query, we're going to ask you to answer 2 different questions and package your answers together in a tuple. Fortunately for you, the answers should be pretty simple to acquire using <code>networkx</code> methods! (You may wish to consult the <code>networkx</code> documentation)\n",
    "</div>\n",
    "<div class=\"alert alert-block alert-success\">\n",
    "Submit a tuple containing answers to the following two queries:<br><br>\n",
    "<ol>\n",
    "    <li>Is your ego network directed?</li>\n",
    "    <li>Is your ego network weighted?</li>\n",
    "\n",
    "</ol>\n",
    "</div>"
   ]
  },
  {
   "cell_type": "code",
   "execution_count": null,
   "metadata": {},
   "outputs": [],
   "source": [
    "#_04\n",
    "\n",
    "# Is your ego network directed? (True/False)\n",
    "query_1 = _____\n",
    "# Is your ego network weighted? (True/False)\n",
    "query_2 = _____\n",
    "\n",
    "print(query_1, query_2)\n",
    "\n",
    "# Store the result in the assignment variable\n",
    "_04 = (query_1, query_2) # do not change this line"
   ]
  },
  {
   "cell_type": "markdown",
   "metadata": {},
   "source": [
    "# <font color=\"#49699E\">PART B | CHAPTER 19</font>\n",
    "<a id=\"SECBEP\"></a>"
   ]
  },
  {
   "cell_type": "markdown",
   "metadata": {},
   "source": [
    "<div class=\"alert alert-block alert-info\">  \n",
    "    \n",
    "For all of the questions in parts B and C of this assignment, we're going to be working with Wayne W. Zachary's Karate Club dataset. Zachary collected this data in the context of a 3 year anthropological ethnography in the early 1970s. During that period, the nodes in the network were involved in a heated disagreement over how much to charge for karate lessons and how to compensate the instructor. This evolved into an intense political conflict that divided the club into two factions. Over time, the factionalized structure of the network was exacerbated by the informal flow of information through friendship networks, leading each faction to know less about the other and less about what they had in common over time, until eventually the club split into two clubs. On the basis of this work, Zachary proposed a (then) new mathematical model of how network structures shape the diffusion of political information, and how conflicts unfold in small groups over time.<br>\n",
    "    \n",
    "In the karate club network, the nodes are members of a university-based karate club and the edges represent their friendships with one another. The numbers are simply integer IDs that represent each node, which is a common practice for anonymizing data. The integer IDs have no quantitative meaning here.  </div>"
   ]
  },
  {
   "cell_type": "markdown",
   "metadata": {},
   "source": [
    "## Question 5:\n",
    "<div class=\"alert alert-block alert-info\">  \n",
    "We're going to start this section off with a brief introduction to the Karate Club dataset. Even though it isn't necessary to answer the question properly, we're going to produce a visualization of the club. Then, we're going to find all of the shortest paths between two members of the club who occupy mutually distant positions in the network.\n",
    "</div>\n",
    "<div class=\"alert alert-block alert-success\">\n",
    "Load the Karate Club dataset, which is included in the NetworkX package by default (use the NetworkX documentation to help you figure out which function to use). We've included the code that will produce a visualization of the network (provided you can supply the function necessary to lay it out using Fruchterman Reingold, as above), but the visualization is just for your benefit. <br>\n",
    "    \n",
    "Find all of the shortest paths between node 16 and node 22. Sort and submit it as a list of lists, which is how <code>networkx</code> outputs the paths from the generator by default.\n",
    "</div>"
   ]
  },
  {
   "cell_type": "code",
   "execution_count": null,
   "metadata": {},
   "outputs": [],
   "source": [
    "#_05\n",
    "\n",
    "# Load Karate Club Graph\n",
    "karate_net = _____\n",
    "\n",
    "# Visualize Karate Club Graph (Optional)\n",
    "pos = nx._____(_____, seed=42)\n",
    "fig, ax = plt._____(figsize=(12, 12))\n",
    "\n",
    "\n",
    "nx.draw_networkx_labels(\n",
    "    _____, \n",
    "    pos,\n",
    "    ax=ax,\n",
    "    bbox = {\"ec\": \"k\", \"fc\":\"white\"}\n",
    ")\n",
    "nx.draw(\n",
    "    _____, \n",
    "    pos,\n",
    "    ax=ax,\n",
    "    node_color=\"white\",\n",
    ")\n",
    "ax.margins(0.3)\n",
    "plt.show()\n",
    "\n",
    "# Store all shortest paths (each of which is a list) in a list and sort that list\n",
    "shortest_paths = _____\n",
    "\n",
    "pprint(shortest_paths)\n",
    "\n",
    "# Store the result in the assignment variable\n",
    "_05 = shortest_paths # do not change this variable name"
   ]
  },
  {
   "cell_type": "markdown",
   "metadata": {},
   "source": [
    "## Question 6:\n",
    "<div class=\"alert alert-block alert-info\">  \n",
    "Now that you've seen all of the different paths one node on one side of the network can take to reach a node on the other side of the network, you might have started to notice that some nodes appeared more frequently in this path than others. At a glance, 0, 32, and 33 all seem very central, but the mathematical analysis may yet prove us wrong! In this question, we're going to compare two different ways of measuring betweenness centrality to see if there is any noticable difference between them in a network such as this one.\n",
    "</div>\n",
    "<div class=\"alert alert-block alert-success\">\n",
    "Find the three nodes with the highest shortest-path betweenness centrality. Then, find the three nodes with the highest current-flow betweenness centrality. Submit a list of the integer values of the nodes that appear in both top-three lists (if there aren't any, submit an empty list).\n",
    "</div>"
   ]
  },
  {
   "cell_type": "code",
   "execution_count": null,
   "metadata": {},
   "outputs": [],
   "source": [
    "#_06\n",
    "\n",
    "# Create dictionary of shortest-path betweenness centrality\n",
    "shortest_dict = nx._____(karate_net)\n",
    "\n",
    "# Create dictionary of current-flow betweenness centrality\n",
    "current_dict = nx._____(karate_net)\n",
    "\n",
    "# Print the top three items of both dictionaries, sorted from highest value to lowest\n",
    "pprint(_____)\n",
    "pprint(_____)\n",
    "\n",
    "# Fill in integer values of nodes that appear in both top-three lists\n",
    "both_top_three = [_____]\n",
    "\n",
    "# Store the result in the assignment variable\n",
    "_06 = sorted(both_top_three) # do not change this line"
   ]
  },
  {
   "cell_type": "markdown",
   "metadata": {},
   "source": [
    "## Question 7:\n",
    "<div class=\"alert alert-block alert-info\">  \n",
    "This time, we're going to see if we can figure out how closely degree and degree centrality are related. We're going to compare the nodes that top both lists to see if there are any differences between them.\n",
    "</div>\n",
    "<div class=\"alert alert-block alert-success\">\n",
    "Find the top ten nodes in the network as measured by degree centrality. Then, find the top ten nodes sorted by degree. Submit a list of the integer values of the nodes <b>that appear in <i>one</i> of the top-ten lists, but not the other</b> (if there aren't any, submit an empty list).\n",
    "</div>"
   ]
  },
  {
   "cell_type": "code",
   "execution_count": null,
   "metadata": {},
   "outputs": [],
   "source": [
    "#_07\n",
    "\n",
    "# Create a dictionary of degree centralities\n",
    "degree_cent_dict = nx._____(_____)\n",
    "\n",
    "# Print the top 3 entries from the degree centrality dictionary, sorted from highest to lowest\n",
    "pprint(_____)\n",
    "\n",
    "# Create a list of degree values\n",
    "degree_list = nx._____(_____)\n",
    "\n",
    "# Print the top 3 entries from the degree list, sorted from highest to lowest\n",
    "pprint(_____)\n",
    "\n",
    "both_top_ten = []\n",
    "\n",
    "# Store the result in the assignment variable\n",
    "_07 = sorted(both_top_ten) # do not change this variable name"
   ]
  },
  {
   "cell_type": "markdown",
   "metadata": {},
   "source": [
    "## Question 8:\n",
    "<div class=\"alert alert-block alert-info\">  \n",
    "Time for one more question on - you guessed it - another type of centrality. Ths time we're going to compare eigenvector centrality with degree centrality. The comparison isn't going to be quite as straightforward as before, so we're going to give you a little space to explain your views on the matter; be specific!\n",
    "</div>\n",
    "<div class=\"alert alert-block alert-success\">\n",
    "First, find the top ten nodes in the network as measured by eigenvector centrality. Compare the resulting list with the list of the top ten nodes as measured by degree centrality (from the previous question). Write between three and five sentences detailing why the two lists might differ, with a particular focus on the latter half of each list. Be specific about the network in question (Karate Club network), the nodes in question, and the measures we're using. You won't recieve full credit for this question unless you succinctly explain how each of the two measures produces a different outcome from the other.\n",
    "</div>"
   ]
  },
  {
   "cell_type": "code",
   "execution_count": null,
   "metadata": {},
   "outputs": [],
   "source": [
    "#_08\n",
    "\n",
    "eigen_dict = nx._____(_____)\n",
    "\n",
    "pprint(_____(eigen_dict, key=lambda _____: eigen_dict[_____], reverse=_____)[_____:_____])\n",
    "pprint(_____(degree_cent_dict, key=lambda _____: degree_cent_dict[_____], reverse=_____)[_____:_____])\n",
    "\n",
    "# Store the result in the assignment variable\n",
    "_08 = \"\"\"\n",
    "SENTENCE ONE OF YOUR ANSWER GOES HERE.\n",
    "SENTENCE TWO OF YOUR ANSWER GOES HERE.\n",
    "SENTENCE THREE OF YOUR ANSWER GOES HERE.\n",
    "SENTENCE FOUR OF YOUR ANSWER GOES HERE (if needed).\n",
    "SENTENCE FIVE OF YOUR ANSWER GOES HERE (if needed).\n",
    "\"\"\" "
   ]
  },
  {
   "cell_type": "markdown",
   "metadata": {},
   "source": [
    "# <font color=\"#49699E\">PART C | CHAPTER 20</font>\n",
    "<a id=\"SECCEP\"></a>"
   ]
  },
  {
   "cell_type": "markdown",
   "metadata": {},
   "source": [
    "## Question 9:\n",
    "<div class=\"alert alert-block alert-info\">  \n",
    "Each of the four questions in Part C will focus on a different method for inferring group structure from a network. All of them will also give you a great deal of leeway in terms of how you approach each question; to compensate (partially), the answers will all be relatively simple (either an integer or written analysis). We're going to start our tour with the K-clique method!\n",
    "</div>\n",
    "<div class=\"alert alert-block alert-success\">\n",
    "Determine how many nodes in the Karate Club network belong to more than one K-clique, where K=4. Submit your answer as an integer. \n",
    "</div>"
   ]
  },
  {
   "cell_type": "code",
   "execution_count": null,
   "metadata": {},
   "outputs": [],
   "source": [
    "#_09\n",
    "\n",
    "# Get clique membership\n",
    "\n",
    "_____\n",
    "\n",
    "# Count number of times each node appears, and filter to only those\n",
    "# which appear more than once\n",
    "\n",
    "_____\n",
    "\n",
    "multi_clique = [x for x in _____ if _____ > 1 ]\n",
    "\n",
    "print(multi_clique)\n",
    "\n",
    "len_multi = len(multi_clique)\n",
    "\n",
    "# Store the result in the assignment variable\n",
    "_09 = len_multi # do not change this variable name"
   ]
  },
  {
   "cell_type": "markdown",
   "metadata": {},
   "source": [
    "## Question 10:\n",
    "\n",
    "<div class=\"alert alert-block alert-info\">  \n",
    "The next stop on our tour is the Louvain algorithm; make sure that the visualization you produce uses different colours for each of the different clusters -- that'll make answering this question much easier!\n",
    "</div>\n",
    "<div class=\"alert alert-block alert-success\">\n",
    "Find the best partition of the network according to the Louvain algorithm (using default parameters). Fill in the blanks in the code provided to produce a visualization of the network with nodes coloured according to their partition. Submit an integer corresponding to the number of different partitions present in the visualization.\n",
    "</div>"
   ]
  },
  {
   "cell_type": "code",
   "execution_count": null,
   "metadata": {},
   "outputs": [],
   "source": [
    "#_10\n",
    "\n",
    "part = community._____(_____, random_state=42)\n",
    "\n",
    "layout = nx._____(_____, seed=23)\n",
    "\n",
    "colors = [_____[n] for n in karate_net.nodes()]\n",
    "my_colors = plt.cm.Set2\n",
    "\n",
    "fig, ax = plt.subplots(figsize=(12,8))\n",
    "nx.draw_networkx_nodes(_____, pos=layout, node_size=300, node_color=colors, cmap = my_colors) \n",
    "nx.draw_networkx_edges(_____, pos=layout, edge_color='#98989C', width=1, style='dotted')\n",
    "plt.axis('off')\n",
    "\n",
    "num_partitions = _____\n",
    "\n",
    "# Store the result in the assignment variable\n",
    "_10 = num_partitions # do not change this variable name"
   ]
  },
  {
   "cell_type": "markdown",
   "metadata": {},
   "source": [
    "## Question 11:\n",
    "\n",
    "<div class=\"alert alert-block alert-info\">  \n",
    "The K-cores method 'strips away' nodes from the network with a severity that increases alongside the chosen value of K. In this question, we're going to ask you to strip away layers from the Karate network until you feel you've identified the 'core' of the network, and then tell us what value of K you ultimately ended up using to accomplish this. Usually, identifying the 'core' would be a subjective call; with this question, however, there's only one justifiable answer!\n",
    "</div>\n",
    "<div class=\"alert alert-block alert-success\">\n",
    "Use K-Core decomposition and a variety of different values for K to extract what you view as the 'core' of the Karate Club network. Use visualizations of all of the K values you try to help you guide your search. Submit the integer value you used for K that was best at extracting the core of the network. \n",
    "</div>"
   ]
  },
  {
   "cell_type": "code",
   "execution_count": null,
   "metadata": {
    "scrolled": false
   },
   "outputs": [],
   "source": [
    "#_11\n",
    "\n",
    "ks = [_____]\n",
    "\n",
    "for k in _____:\n",
    "    kcore = nx._____(_____, _____)\n",
    "    nx.draw(kcore, pos = layout,\n",
    "            with_labels = True, \n",
    "            node_color = 'white', \n",
    "            font_color = 'black', \n",
    "            edge_color = 'lightgray', \n",
    "            font_size = 20, alpha = .9, \n",
    "            node_size = 100)\n",
    "    plt.title(f'$k$-core ($k={k}$)')\n",
    "    plt.show()\n",
    "    \n",
    "best_k = _____  \n",
    "\n",
    "# Store the result in the assignment variable\n",
    "_11 = best_k # do not change this variable name"
   ]
  },
  {
   "cell_type": "markdown",
   "metadata": {},
   "source": [
    "## Question 12:\n",
    "\n",
    "<div class=\"alert alert-block alert-info\">  \n",
    "Finally, we arrive at structural equivalence and blockmodeling. Since most of the code for this question involves visualization, we're going to provide a bit more structure than we have over the past few questions. In return, we're expecting you to produce an insightful analysis about why the highest-level split involved separating the nodes in the way that it did.  \n",
    "</div>\n",
    "<div class=\"alert alert-block alert-success\">\n",
    "Develop a deterministic blockmodel of the Karate Club network. Visualize the blockmodel using a hierarchical clustering dendogram. In the resulting visualization, you should notice that the blockmodel's highest-order split separates the network into two very uneven groups, one containing 5 nodes, and one containing all of the other nodes in the network. Drawing upon your knowledge of what blockmodels represent, write between three and five sentences explaining why the 5 nodes in the smaller group were grouped together. Try to think of where you've seen those nodes before and what the previous questions might have told you about them. Be specific, use appropriate terminology, and make sure to include references to pertinent measures used elsewhere in this module.  \n",
    "</div>"
   ]
  },
  {
   "cell_type": "code",
   "execution_count": null,
   "metadata": {},
   "outputs": [],
   "source": [
    "#_12\n",
    "\n",
    "# Create Adjacency Matrix\n",
    "ego_am = nx._____(_____)\n",
    "\n",
    "# Calculate Euclidean Distances\n",
    "distances = _____(_____)\n",
    "\n",
    "hlink = hierarchy._____(_____, 'ward')\n",
    "\n",
    "plt.figure(figsize=(12, 10))\n",
    "plt.title('Hierarchical Clustering of Structural Profiles')\n",
    "plt.xlabel('Euclidean Distance')\n",
    "\n",
    "d = hierarchy.dendrogram(\n",
    "    hlink,\n",
    "    distance_sort=True,\n",
    "    leaf_rotation=0,  # rotates the x axis labels\n",
    "    leaf_font_size=8,  # font size for the x axis labels\n",
    "    orientation='right', \n",
    "    labels = [n for n in karate_net.nodes()])\n",
    "\n",
    "\n",
    "# Store the result in the assignment variable\n",
    "_12 = \"\"\"\n",
    "SENTENCE ONE OF YOUR ANSWER GOES HERE.\n",
    "SENTENCE TWO OF YOUR ANSWER GOES HERE.\n",
    "SENTENCE THREE OF YOUR ANSWER GOES HERE. \n",
    "SENTENCE FOUR OF YOUR ANSWER GOES HERE (if needed).\n",
    "SENTENCE FIVE OF YOUR ANSWER GOES HERE (if needed).\n",
    "\"\"\""
   ]
  },
  {
   "cell_type": "code",
   "execution_count": null,
   "metadata": {},
   "outputs": [],
   "source": [
    "## FINALIZE ASSIGNMENT\n",
    "\n",
    "import pickle as pkl\n",
    "\n",
    "module = 8\n",
    "\n",
    "response_dict = {\n",
    "    \"student_id\": student_id,\n",
    "    \"grad_student\": \"graduate\",\n",
    "    \"module\": module,\n",
    "    \"responses\": [\n",
    "        _01,\n",
    "        _02,\n",
    "        _03,\n",
    "        _04,\n",
    "        _05,\n",
    "        _06,\n",
    "        _07,\n",
    "        _08,\n",
    "        _09,\n",
    "        _10,\n",
    "        _11,\n",
    "        _12,\n",
    "    ],\n",
    "    \"code_cells\": In\n",
    "}\n",
    "\n",
    "module_string = f\"module_{response_dict['module']}\"\n",
    "filename = f\"{module_string}__student_{student_id}.pkl\"\n",
    "\n",
    "with open(f\"./{filename}\", 'wb') as stream:\n",
    "    pkl.dump(response_dict, stream)"
   ]
  }
 ],
 "metadata": {
  "kernelspec": {
   "display_name": "dcss",
   "language": "python",
   "name": "dcss"
  },
  "language_info": {
   "codemirror_mode": {
    "name": "ipython",
    "version": 3
   },
   "file_extension": ".py",
   "mimetype": "text/x-python",
   "name": "python",
   "nbconvert_exporter": "python",
   "pygments_lexer": "ipython3",
   "version": "3.8.2"
  }
 },
 "nbformat": 4,
 "nbformat_minor": 4
}
