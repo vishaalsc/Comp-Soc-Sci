{
 "cells": [
  {
   "cell_type": "markdown",
   "metadata": {},
   "source": [
    "<br><br><font color=\"gray\">DOING COMPUTATIONAL SOCIAL SCIENCE<br>MODULE 5 <strong>PROBLEM SETS</strong></font>\n",
    "\n",
    "# <font color=\"#49699E\" size=40>Python Fundamentals, Part 2</font>\n"
   ]
  },
  {
   "cell_type": "markdown",
   "metadata": {},
   "source": [
    "# What You Need to Know Before Getting Started\n",
    "\n",
    "- **You can consult any resources you want when completing these exercises and problems**. Just as it is in the \"real world:\" if you can't figure out how to do something, look it up. My recommendation is that you check the relevant parts of the assigned reading or search for inspiration on [https://stackoverflow.com](https://stackoverflow.com).\n",
    "- **Each problem is worth 1 point**. All problems are equally weighted.\n",
    "- **The information you need for each problem set is provided in the blue and green cells.** General instructions / the problem set preamble are in the blue cells, and instructions for specific problems are in the green cells. **You have to execute all of the code in the problem set, but you are only responsible for entering code into the code cells that immediately follow a green cell**. You will also recognize those cells because they will be incomplete. You need to replace each `____` with the code that will make the cell execute properly.\n",
    "- **The comments in the problem cells contain clues indicating what the following line of code is supposed to do.** Use these comments as a guide when filling in the blanks. \n",
    "- **Each problem cell stores one object named according to the problem (e.g. _09)**. These are not important for you, but we use them to help grade your work efficiently, so **do not delete them or change their names**. If you do, you will lose marks.\n",
    "- **You can ask for help**. If you run into problems, you can reach out to John (john.mclevey@uwaterloo.ca) or Pierson (pbrowne@uwaterloo.ca) for help. You can ask a friend for help if you like, regardless of whether they are enrolled in the course.\n",
    "\n",
    "Finally, remember that you do not need to \"master\" this content before moving on to other course materials, as what is introduced here is reinforced throughout the rest of the course. You will have plenty of time to practice and cement your new knowledge and skills."
   ]
  },
  {
   "cell_type": "markdown",
   "metadata": {},
   "source": [
    "# How to Submit Your (Pickled) Assignment! \n",
    "\n",
    "Since we've had to rethink the way we deliver, collect, and evaluate these problem sets, we want to be very clear about what you need to do to properly submit this module notebook assignment. Please read the following explanation of our process so that you understand how this works, and what you need to do.\n",
    "\n",
    "At the very end of this notebook, there is a code cell that will compile all of your answers to every problem in the assignment and save them as a 'pickle' file (`.pkl`) in the current working directory. You can execute that cell as many times as you like. Each time you run it, it will overwrite the old pickle with your updated answers. **Once you've ensured that everything in the notebook is complete and finished to your satisfaction, it's up to you to get the pickle that you just created and upload it to the appropriate Learn dropbox for this module.** The file you are looking for will not exist until you run the cells at the end of the notebook. Once it has been created, it will follow this naming convention: \n",
    "\n",
    "> `module_[number]__student_[your_student_number].pkl`\n",
    "\n",
    "To be very clear, **you need to submit the pickle to Learn**. You do not need to upload the Jupyter Notebook as initially planned. **Just the pickle!**"
   ]
  },
  {
   "cell_type": "markdown",
   "metadata": {},
   "source": [
    "## Make Sure Everything is Good to Go\n",
    "\n",
    "It's generally a good idea to do a 'fresh' run of your entire notebook before you submit your assignment to make sure that everything is working as it should be. You can use the button with the 'Fast-Forward' arrows in the Jupyter toolbar above to restart the kernel (resetting everything to initial conditions) and running every code cell in the notebook, in order. You can also select 'Restart and Run All' from the Kernel dropdown menu. If the entire notebook runs without throwing any errors, you should be good to go!\n",
    "\n",
    "If you're running into issues, make sure that you haven't changed any of the 'answer' variable names we provided you with (e.g., we asked you to store your answer to the first question in a variable called `_01`). If you change an answer's variable name or don't store your answer in that variable, the project won't finalize properly and you won't get proper credit for your work. The same goes for the `student_id` metadata variable we ask you to complete immediately below; if any of those are missing, haven't been filled in properly, or have been renamed, issues may arise during the grading process and you will not receive proper credit. So make sure you enter your student information, and don't delete or change the names of the variables that store your answers to each problem!"
   ]
  },
  {
   "cell_type": "markdown",
   "metadata": {},
   "source": [
    "## IMPORTANT: ADD YOUR STUDENT ID NUMBER\n",
    "\n",
    "<div class=\"alert alert-block alert-danger\">\n",
    "To evaluate your work, we need you to provide your student number. In the cell below, <strong>replace '12345678' with your student number</strong>. The student_id' variable needs to be an integer, so <strong>do not wrap it in quotes.</strong>\n",
    "</div>"
   ]
  },
  {
   "cell_type": "code",
   "execution_count": 1,
   "metadata": {},
   "outputs": [],
   "source": [
    "# Your UWaterloo student ID number\n",
    "student_id = 12345678 "
   ]
  },
  {
   "cell_type": "markdown",
   "metadata": {},
   "source": [
    "## Package Imports\n",
    "\n",
    "<div class=\"alert alert-block alert-warning\">\n",
    "This module requires you to have installed the <strong> dill </strong> package, which you can do either via <strong> conda </strong> or <strong> pip </strong>. If the following code cell returns an error, you likely do not have dill installed.\n",
    "</div>"
   ]
  },
  {
   "cell_type": "code",
   "execution_count": 2,
   "metadata": {},
   "outputs": [],
   "source": [
    "import dill as pkl\n",
    "from pprint import pprint"
   ]
  },
  {
   "cell_type": "markdown",
   "metadata": {},
   "source": [
    "## Assignment Primer\n",
    "\n",
    "<div class=\"alert alert-block alert-info\">  \n",
    "In this notebook, we're going to return to the topic of Python programming skills. Our objective in doing so is to strengthen your understanding of three aspects involved in almost all Python Programming: (1) creating callable functions from scratch, (2) using functions you've written inside other functions you're writing, and (3) using external sources of information to fill in the gaps in your knowledge. All of these aspects are very important, but the latter of the three can be counterintuitive at first. Normally, university courses establish the expectation that you, as a student, won't be formally assessed on any domain-specific knowledge that isn't contained in the course materials themselves. That's not going to be the case here; some of the things we're going to ask you to do are not in the textbook or course readings. In this notebook, our objective is to help you develop an intuition for how you can find information about Python (and the countless legions of indispensible packages that have been developed for it) as the need emerges. Three good places to start looking for answers are:\n",
    "</div>\n",
    "\n",
    "1. [The Python Language Reference](https://docs.python.org/3.8/reference/index.html)\n",
    "\n",
    "2. [Python Data Structures](https://docs.python.org/3/tutorial/datastructures.html)\n",
    "\n",
    "3. [StackOverflow](https://stackoverflow.com/)\n"
   ]
  },
  {
   "cell_type": "markdown",
   "metadata": {},
   "source": [
    "<div class=\"alert alert-block alert-info\">  \n",
    "As opposed to the other assignments you've completed throughout this course, this module will feature comparatively few blanks to fill. Instead, it will be up to you to write functions -- from scratch -- that will be capable of accepting some set of pre-defined inputs and returning some set of expected outputs. *This means you cannot complete the assignment by just filling in blanks; most of the questions will require you to write your own code as you see fit, without blanks to guide you*. To aid you in this, we will provide a series of screenshots that will indicate to you what each function you write should return. You can find these screenshots in the repository, in a subdirectory of the module's directory. There are also a series of commented lines in each question that should help you figure out how to structure your answer. There will be many valid ways to complete each question in this assignment, and there are as many 'correct' answers as there are ways to write a function capable of performing the required task (read: nearly infinite). You should feel free to import any packages you would like to use to help you complete this assignment. Good luck!\n",
    "</div>"
   ]
  },
  {
   "cell_type": "markdown",
   "metadata": {},
   "source": [
    "<div class=\"alert alert-block alert-danger\"> \n",
    "YOU CANNOT COMPLETE THIS ASSIGNMENT BY ONLY FILLING IN BLANKS. YOU MUST WRITE YOUR OWN CODE.\n",
    "</div>"
   ]
  },
  {
   "cell_type": "markdown",
   "metadata": {},
   "source": [
    "## Question 1:\n",
    "\n",
    "<div class=\"alert alert-block alert-info\">  \n",
    "Take a moment to go back to the content on writing custom functions in the chapter \"Python Programming\" (assigned in Module 2) as well as the associated content in the Module 2 assignment notebook. We'll start with an opportunity to refresh your memory!\n",
    "</div>\n",
    "<div class=\"alert alert-block alert-success\"> Write a function that takes in a single argument in the form of a string. This function should split the words in the string into a list of separate words (the course readings demonstrate how to do this) and return the list of words from the sentence (in their original order). \n",
    "</div>"
   ]
  },
  {
   "cell_type": "code",
   "execution_count": 3,
   "metadata": {},
   "outputs": [
    {
     "name": "stdout",
     "output_type": "stream",
     "text": [
      "['Trudeau', 'first', 'foreign', 'leader', 'to', 'speak', 'with', 'Biden']\n",
      "['Harris', 'fondly', 'recalls', 'years', 'in', 'Montreal', 'during', 'call', 'with', 'Trudeau']\n",
      "['Kamala', 'Harris', 'takes', 'traditional', 'approach', 'to', 'Vice', 'Presidency']\n"
     ]
    }
   ],
   "source": [
    "#_01\n",
    "\n",
    "# Initialize the strings we'll use to test the function\n",
    "sentence_1 = \"Trudeau first foreign leader to speak with Biden\" # CTV News, Jan 22nd, 2021\n",
    "sentence_2 = \"Harris fondly recalls years in Montreal during call with Trudeau\" #CTV News, Feb 1st, 2021\n",
    "sentence_3 = \"Kamala Harris takes traditional approach to Vice Presidency\" # NPR, Feb 4th, 2021\n",
    "\n",
    "# Define Function\n",
    "def split_sentence_into_words(string):\n",
    "    \n",
    "    # Split string\n",
    "    words = string.split()\n",
    "    # Return split string\n",
    "    return words\n",
    "\n",
    "# Call function on test input(s) and print returned values \n",
    "print(split_sentence_into_words(sentence_1))\n",
    "print(split_sentence_into_words(sentence_2))\n",
    "print(split_sentence_into_words(sentence_3))\n",
    "\n",
    "# Store your function in assignment variable\n",
    "_01 = split_sentence_into_words # do not change this variable name"
   ]
  },
  {
   "cell_type": "markdown",
   "metadata": {},
   "source": [
    "## Question 2:\n",
    "<div class=\"alert alert-block alert-info\">  \n",
    "In this question, you're going to need to make use of two things that we haven't covered in the course material: using a custom function inside another custom function, and an advanced list method that you'll need to find and figure out how to use on your own. (Remember, learning how to solve programming problems on your own is perhaps the most important programming skill you need to develop in computational social science and data science!)\n",
    "</div>\n",
    "<div class=\"alert alert-block alert-success\">\n",
    "Now, let's write a custom function that accepts two arguments, the first of which is a sentence in the form of a string, and the second is a one-word term (also in the form of a string) it will search for within the sentence string. You should split the sentence into a list of words and ensure that all words (the sentence and the term) are converted to lower-case and have all whitespace removed. Rather than writing the code to do this from scratch, use the function you wrote for Question 1! After using your Question 1 function to split the sentence, your Question 2 function should search for the term in the list of words from the sentence. If your Question 2 function determines that the term is present in the sentence, it should return an integer corresponding to the position of the term's **first** appearance in the sentence (e.g. if the term is the first word, return a value of 0. If it is the third word, return a value of 2). If your function determines that the term is **not** present in the sentence, it should return a value of 'None'. \n",
    "</div>"
   ]
  },
  {
   "cell_type": "code",
   "execution_count": 4,
   "metadata": {},
   "outputs": [
    {
     "name": "stdout",
     "output_type": "stream",
     "text": [
      "None\n",
      "0\n",
      "1\n",
      "0\n",
      "9\n",
      "None\n"
     ]
    }
   ],
   "source": [
    "#_02\n",
    "\n",
    "# Initialize the terms we'll use to test the function\n",
    "term_1 = \"Harris\"\n",
    "term_2 = \"Trudeau\"\n",
    "\n",
    "# Define Function\n",
    "def search_for_term_in_sentence(sentence, word):\n",
    "\n",
    "    # convert lower-case\n",
    "    s, w = sentence.lower(), word.lower()\n",
    "\n",
    "    # Use function from the previous question to get the split sentence\n",
    "    words = split_sentence_into_words(s)\n",
    "    \n",
    "    # Check to see if term is in split sentence...\n",
    "    if w in words:\n",
    "        # ... if so, return the integer index of the term\n",
    "        return words.index(w)\n",
    "\n",
    "    # if not, return None\n",
    "    return None\n",
    "\n",
    "# Call function on test input(s) and print returned values \n",
    "print(search_for_term_in_sentence(sentence_1, term_1))\n",
    "print(search_for_term_in_sentence(sentence_2, term_1))\n",
    "print(search_for_term_in_sentence(sentence_3, term_1))\n",
    "print(search_for_term_in_sentence(sentence_1, term_2))\n",
    "print(search_for_term_in_sentence(sentence_2, term_2))\n",
    "print(search_for_term_in_sentence(sentence_3, term_2))\n",
    "\n",
    "# Store your function in assignment variable\n",
    "_02 = search_for_term_in_sentence # do not change this variable name"
   ]
  },
  {
   "cell_type": "markdown",
   "metadata": {},
   "source": [
    "## Question 3:\n",
    "<div class=\"alert alert-block alert-info\">  \n",
    "Now let's create a function that's capable of telling us how many words a sentence contains. Here again, you should make use of the function you wrote for Question 1 to help you split the sentences into words.\n",
    "</div>\n",
    "<div class=\"alert alert-block alert-success\">\n",
    "Create a function that takes in one argument: a sentence in the form of a string. Your function should split the string into words and then return the number of words the sentence contains.\n",
    "</div>"
   ]
  },
  {
   "cell_type": "code",
   "execution_count": 5,
   "metadata": {},
   "outputs": [
    {
     "name": "stdout",
     "output_type": "stream",
     "text": [
      "8\n",
      "10\n",
      "8\n"
     ]
    }
   ],
   "source": [
    "#_03\n",
    "\n",
    "# Define Function\n",
    "def count_words_in_sentence(sentence):\n",
    "    \n",
    "    # Get the split sentence\n",
    "    words = split_sentence_into_words(sentence)\n",
    "    \n",
    "    # Get the number of words in the sentence\n",
    "    count = len(words)\n",
    "\n",
    "    # Return the number of words in the sentence\n",
    "    return count\n",
    "\n",
    "# Call function on test input(s) and print returned values \n",
    "print(count_words_in_sentence(sentence_1))\n",
    "print(count_words_in_sentence(sentence_2))\n",
    "print(count_words_in_sentence(sentence_3))\n",
    "\n",
    "\n",
    "# Store your function in assignment variable\n",
    "_03 = count_words_in_sentence # do not change this variable name"
   ]
  },
  {
   "cell_type": "markdown",
   "metadata": {},
   "source": [
    "## Question 4:\n",
    "<div class=\"alert alert-block alert-info\">  \n",
    "Bear with us here; we're only going to make one more 'standalone' function before we start combining them in more interesting ways! This time, we're going to create a function that counts the number of times a term appears in a sentence.\n",
    "</div>\n",
    "<div class=\"alert alert-block alert-success\">\n",
    "Define a function that takes in two arguments: a sentence in the form of a string, and a term in the form of a string. Your function should split the sentence string into words and then return the number of times the term appears in the sentence.\n",
    "</div>"
   ]
  },
  {
   "cell_type": "code",
   "execution_count": 6,
   "metadata": {},
   "outputs": [
    {
     "name": "stdout",
     "output_type": "stream",
     "text": [
      "0\n",
      "1\n",
      "1\n",
      "1\n",
      "1\n",
      "0\n"
     ]
    }
   ],
   "source": [
    "#_04\n",
    "\n",
    "# Define Function\n",
    "def count_occurrences_of_term_in_sentence(sentence, term):\n",
    "    \n",
    "    # Get the split sentence\n",
    "    words = split_sentence_into_words(sentence)\n",
    "    \n",
    "    # Count the number of times the term appears in the split sentence\n",
    "    count = words.count(term)\n",
    "    \n",
    "    # Return the term count\n",
    "    return count\n",
    "    \n",
    "# Call function on test input(s) and print returned values     \n",
    "print(count_occurrences_of_term_in_sentence(sentence_1, term_1))\n",
    "print(count_occurrences_of_term_in_sentence(sentence_2, term_1))\n",
    "print(count_occurrences_of_term_in_sentence(sentence_3, term_1))\n",
    "print(count_occurrences_of_term_in_sentence(sentence_1, term_2))\n",
    "print(count_occurrences_of_term_in_sentence(sentence_2, term_2))\n",
    "print(count_occurrences_of_term_in_sentence(sentence_3, term_2))\n",
    "\n",
    "\n",
    "# Store your function in assignment variable\n",
    "_04 = count_occurrences_of_term_in_sentence # do not change this variable name"
   ]
  },
  {
   "cell_type": "markdown",
   "metadata": {},
   "source": [
    "## Question 5:\n",
    "<div class=\"alert alert-block alert-info\">  \n",
    "Time to start putting things together! This question is going to ask you to combine everything you've done so far into one convenient package. It's also going to require you to make use of tuple packing/unpacking, which is useful when a function needs to return multiple values. \n",
    "</div>\n",
    "<div class=\"alert alert-block alert-success\">\n",
    "Define a function that takes in two arguments: a sentence in the form of a string, and a term in the form of a string. For any pairing of sentence and term, this function should return the following pieces of information, in this order: an integer indicating the number of words in the sentence, an integer indicating the number of times the term appears in the sentence, and an integer corresponding to the position in the sentence where the term first appears. Use the functions you have already defined in the previous questions to build your function.\n",
    "</div>"
   ]
  },
  {
   "cell_type": "code",
   "execution_count": 7,
   "metadata": {},
   "outputs": [
    {
     "name": "stdout",
     "output_type": "stream",
     "text": [
      "(8, 0, None)\n",
      "(10, 1, 0)\n",
      "(8, 1, 1)\n",
      "(8, 1, 0)\n",
      "(10, 1, 9)\n",
      "(8, 0, None)\n"
     ]
    }
   ],
   "source": [
    "#_05\n",
    "\n",
    "# Define Function\n",
    "def process_sentence_and_term(sentence, term):\n",
    "    \n",
    "    # Get the number of words in the sentence\n",
    "    num_words = len(split_sentence_into_words(sentence))\n",
    "    \n",
    "    # Get the number of times the term appears in the sentence\n",
    "    num_occur = count_occurrences_of_term_in_sentence(sentence, term)\n",
    "    \n",
    "    # Find position of term's first appearance\n",
    "    position = search_for_term_in_sentence(sentence, term)\n",
    "\n",
    "    # Return all three values, packed together\n",
    "    return num_words, num_occur, position\n",
    "\n",
    "\n",
    "# Call function on test input(s) and print returned values \n",
    "print(process_sentence_and_term(sentence_1, term_1))\n",
    "print(process_sentence_and_term(sentence_2, term_1))\n",
    "print(process_sentence_and_term(sentence_3, term_1))\n",
    "print(process_sentence_and_term(sentence_1, term_2))\n",
    "print(process_sentence_and_term(sentence_2, term_2))\n",
    "print(process_sentence_and_term(sentence_3, term_2))\n",
    "\n",
    "# Store your function in assignment variable\n",
    "_05 = process_sentence_and_term # do not change this variable name"
   ]
  },
  {
   "cell_type": "markdown",
   "metadata": {},
   "source": [
    "## Question 6:\n",
    "<div class=\"alert alert-block alert-info\">  \n",
    "Now we can perform calculations based on the properties we extracted using the functions we built earlier! We'll start by creating a function that calculates two proportions based on the three values we have to work with. \n",
    "</div>\n",
    "<div class=\"alert alert-block alert-success\">\n",
    "Define a function that takes in two arguments: a sentence in the form of a string, and a term in the form of a string. Use the  function you wrote in Question 5 and tuple unpacking to get the sentence word count, term occurrance count, and first term occurance position. Use these variables in combination with one another to calculate (1) the number of times the term appears in the sentence *as a proportion of the sentence's overall length*, and (2) if the term appears in the sentence, how far into the sentence the word appears *relative to the sentence's overall length* (if the term does not appear in the sentence, set the value to 'None'). Return these two values (using tuple packing/unpacking), each of which should be between 0 and 1 (unless the term does not appear, in which case the first value should be 0 and the second of the two values returned should be 'None').\n",
    "</div>"
   ]
  },
  {
   "cell_type": "code",
   "execution_count": 8,
   "metadata": {},
   "outputs": [
    {
     "name": "stdout",
     "output_type": "stream",
     "text": [
      "(0.0, None)\n",
      "(0.1, 0.0)\n",
      "(0.125, 0.125)\n",
      "(0.125, 0.0)\n",
      "(0.1, 0.9)\n",
      "(0.0, None)\n"
     ]
    }
   ],
   "source": [
    "#_06\n",
    "\n",
    "# Define Function\n",
    "def analyze_sentence_and_term(sentence, term):\n",
    "    \n",
    "    # Get and unpack word count, term count, and term position variables\n",
    "    word_cnt, term_cnt, term_pos = process_sentence_and_term(sentence, term)\n",
    "    \n",
    "    # Calculate term proportion\n",
    "    term_prop = term_cnt/word_cnt\n",
    "    \n",
    "    # Calculate position of term's first appearance as \n",
    "    # proportion of overall sentence length\n",
    "    try:\n",
    "        pos_prop = term_pos/word_cnt\n",
    "    except TypeError:\n",
    "        pos_prop = None\n",
    "    \n",
    "    # Return the two calculated values, packed\n",
    "    return term_prop, pos_prop\n",
    "    \n",
    "    \n",
    "# Call function on test input(s) and print returned values     \n",
    "print(analyze_sentence_and_term(sentence_1, term_1))\n",
    "print(analyze_sentence_and_term(sentence_2, term_1))\n",
    "print(analyze_sentence_and_term(sentence_3, term_1))\n",
    "print(analyze_sentence_and_term(sentence_1, term_2))\n",
    "print(analyze_sentence_and_term(sentence_2, term_2))\n",
    "print(analyze_sentence_and_term(sentence_3, term_2))\n",
    "\n",
    "\n",
    "\n",
    "# Store your function in assignment variable\n",
    "_06 = analyze_sentence_and_term # do not change this variable name"
   ]
  },
  {
   "cell_type": "markdown",
   "metadata": {},
   "source": [
    "## Question 7:\n",
    "<div class=\"alert alert-block alert-info\">  \n",
    "You might have noticed that in all of the question code cells above, we've used 3 or 6 print statements to display what your functions return when they are called using each of the test inputs available to us in every possible combination. This is fine when the number of sentences and terms is small, but will get extremely tedious if we start to add more test cases to the mix. \n",
    "\n",
    "</div>\n",
    "<div class=\"alert alert-block alert-success\">\n",
    "For this question, create a function that can take in any number of sentences (in the form of a list of sentences) and any number of terms (in the form of a list of terms) and run our rudimentary analysis on each pairing of sentence and term. Your function should still accept two arguments (sentences and terms, in that order), but should iterate over every possible combination of sentence and term. Store the results from each pairing of sentence and term in a list. Sort the list using Python's default built-in sorting function and then return the sorted list.\n",
    "</div>"
   ]
  },
  {
   "cell_type": "code",
   "execution_count": 9,
   "metadata": {},
   "outputs": [
    {
     "name": "stdout",
     "output_type": "stream",
     "text": [
      "[(0.0, None),\n",
      " (0.0, None),\n",
      " (0.0, None),\n",
      " (0.0, None),\n",
      " (0.0, None),\n",
      " (0.0, None),\n",
      " (0.0, None),\n",
      " (0.0, None),\n",
      " (0.0, None),\n",
      " (0.0, None),\n",
      " (0.0, None),\n",
      " (0.0, None),\n",
      " (0.0, None),\n",
      " (0.0, None),\n",
      " (0.08333333333333333, 0.0),\n",
      " (0.08333333333333333, 0.9166666666666666),\n",
      " (0.09090909090909091, 0.45454545454545453),\n",
      " (0.1, 0.0),\n",
      " (0.1, 0.1),\n",
      " (0.1, 0.7),\n",
      " (0.1, 0.9),\n",
      " (0.125, 0.0),\n",
      " (0.125, 0.125),\n",
      " (0.125, 0.875)]\n"
     ]
    }
   ],
   "source": [
    "#_07\n",
    "\n",
    "# Initialize more strings we'll use to test functions\n",
    "list_of_sentences = [\n",
    "    sentence_1,\n",
    "    sentence_2, \n",
    "    sentence_3,\n",
    "    \"Trudeau and party leaders extend congratulations to new US President Joe Biden\", # CBC, Jan 20th, 2021\n",
    "    \"Feds laying groundwork to ensure Biden hears Canadian priorities ambassador says\", #CBC, Jan 17th, 2021\n",
    "    \"Conservatives call for special committee devoted to Canada US relations\", # Global News, Feb 4th, 2021\n",
    "]\n",
    "\n",
    "# Initialize more terms we'll use to test functions\n",
    "list_of_terms = [\n",
    "    term_1,\n",
    "    term_2,\n",
    "    'Biden',\n",
    "    'call',\n",
    "]\n",
    "\n",
    "# Define Function\n",
    "def analyze_sentences_and_terms(sentences, terms):\n",
    "    \n",
    "    # Initialize results container\n",
    "    results = []\n",
    "    \n",
    "    # Iterate over sentences\n",
    "    for sentence in sentences:\n",
    "\n",
    "        # Iterate over terms\n",
    "        for term in terms:\n",
    "\n",
    "            # Add values returned from question 6 function to container\n",
    "            results.append(analyze_sentence_and_term(sentence, term))\n",
    "            \n",
    "    # Sort the values\n",
    "    # results.sort() redundant here\n",
    "    \n",
    "    # Return sorted list of values\n",
    "    return sorted(results)\n",
    "\n",
    "# Call function on test input(s) and print returned values \n",
    "pprint(analyze_sentences_and_terms(list_of_sentences, list_of_terms))\n",
    "\n",
    "# Store your function in assignment variable\n",
    "_07 = analyze_sentences_and_terms # do not change this variable name"
   ]
  },
  {
   "cell_type": "markdown",
   "metadata": {},
   "source": [
    "## Question 8:\n",
    "<div class=\"alert alert-block alert-info\">  \n",
    "We're going to take a minor detour here to create another function that we might find useful as an ancilliary. What we're asking you to do (create a function that takes in a list of terms but simply ignores them) might seem odd to you at first -- with luck, Question 9 might help show you why this can be a useful thing to do. For this question, you might find it useful to examine the following Python documentation:\n",
    "</div>\n",
    "\n",
    "[Python Collections](https://docs.python.org/3/library/collections.html)\n",
    "\n",
    "<div class=\"alert alert-block alert-success\">\n",
    "Create a function that takes in two arguments: (1) a list of sentences, (2)a list of terms. Even though this function will take in a list of terms, your function should ignore them entirely. Your function should split each of the sentences into lists of words, and then combine each list of words into one large list of all of the words in each sentence provided. Then, your function should count how many times each word appears in all of the sentences and return a list of 2-item tuples, where each tuple's first value is one of the words from the sentences, and the second value is the number of times that it appears. The list should be sorted in order from the word that appears most commonly to the word(s) which appear least commonly. \n",
    "</div>"
   ]
  },
  {
   "cell_type": "code",
   "execution_count": 10,
   "metadata": {},
   "outputs": [
    {
     "name": "stdout",
     "output_type": "stream",
     "text": [
      "[('to', 5),\n",
      " ('Trudeau', 3),\n",
      " ('Biden', 3),\n",
      " ('with', 2),\n",
      " ('Harris', 2),\n",
      " ('call', 2),\n",
      " ('US', 2),\n",
      " ('first', 1),\n",
      " ('foreign', 1),\n",
      " ('leader', 1),\n",
      " ('speak', 1),\n",
      " ('fondly', 1),\n",
      " ('recalls', 1),\n",
      " ('years', 1),\n",
      " ('in', 1),\n",
      " ('Montreal', 1),\n",
      " ('during', 1),\n",
      " ('Kamala', 1),\n",
      " ('takes', 1),\n",
      " ('traditional', 1),\n",
      " ('approach', 1),\n",
      " ('Vice', 1),\n",
      " ('Presidency', 1),\n",
      " ('and', 1),\n",
      " ('party', 1),\n",
      " ('leaders', 1),\n",
      " ('extend', 1),\n",
      " ('congratulations', 1),\n",
      " ('new', 1),\n",
      " ('President', 1),\n",
      " ('Joe', 1),\n",
      " ('Feds', 1),\n",
      " ('laying', 1),\n",
      " ('groundwork', 1),\n",
      " ('ensure', 1),\n",
      " ('hears', 1),\n",
      " ('Canadian', 1),\n",
      " ('priorities', 1),\n",
      " ('ambassador', 1),\n",
      " ('says', 1),\n",
      " ('Conservatives', 1),\n",
      " ('for', 1),\n",
      " ('special', 1),\n",
      " ('committee', 1),\n",
      " ('devoted', 1),\n",
      " ('Canada', 1),\n",
      " ('relations', 1)]\n"
     ]
    }
   ],
   "source": [
    "#_08\n",
    "\n",
    "# Import a package that we might find handy\n",
    "from collections import Counter\n",
    "\n",
    "# Define Function\n",
    "def count_all_words(sentences, terms):\n",
    "    \n",
    "    # Initialize results container\n",
    "    results = []\n",
    "    \n",
    "    # Iterate over sentences\n",
    "    for sentence in sentences:\n",
    "        \n",
    "        # Split a sentence, and add it (as words, not a list) to container\n",
    "        results.extend(sentence.split())\n",
    "    \n",
    "    # Count the the number of times each word appears\n",
    "    # this is done by most_common of Counter\n",
    "    \n",
    "    # Return sorted list of term-occurrence pairs\n",
    "    return Counter(results).most_common()\n",
    "    \n",
    "    \n",
    "# Call function on test input(s) and print returned values \n",
    "pprint(count_all_words(list_of_sentences, list_of_terms))\n",
    "\n",
    "\n",
    "# Store your function in assignment variable\n",
    "_08 = count_all_words # do not change this variable name"
   ]
  },
  {
   "cell_type": "markdown",
   "metadata": {},
   "source": [
    "## Question 9:\n",
    "<div class=\"alert alert-block alert-info\">  \n",
    "In this question, we're going to explore how Python allows you to pass a function as an argument to another function.\n",
    "</div>\n",
    "<div class=\"alert alert-block alert-success\">\n",
    "Define a function that takes in **three** arguments: the first being a list of sentences, the second being a list of terms, and the third being a 'callable' (in our case, a function). Make sure that you write this function so that it can accept either of your functions from the previous two questions. This function (Question 9's) should return whatever values are returned by the function that is passed to it.\n",
    "</div>"
   ]
  },
  {
   "cell_type": "code",
   "execution_count": 11,
   "metadata": {},
   "outputs": [
    {
     "name": "stdout",
     "output_type": "stream",
     "text": [
      "[('to', 5),\n",
      " ('Trudeau', 3),\n",
      " ('Biden', 3),\n",
      " ('with', 2),\n",
      " ('Harris', 2),\n",
      " ('call', 2),\n",
      " ('US', 2),\n",
      " ('first', 1),\n",
      " ('foreign', 1),\n",
      " ('leader', 1),\n",
      " ('speak', 1),\n",
      " ('fondly', 1),\n",
      " ('recalls', 1),\n",
      " ('years', 1),\n",
      " ('in', 1),\n",
      " ('Montreal', 1),\n",
      " ('during', 1),\n",
      " ('Kamala', 1),\n",
      " ('takes', 1),\n",
      " ('traditional', 1),\n",
      " ('approach', 1),\n",
      " ('Vice', 1),\n",
      " ('Presidency', 1),\n",
      " ('and', 1),\n",
      " ('party', 1),\n",
      " ('leaders', 1),\n",
      " ('extend', 1),\n",
      " ('congratulations', 1),\n",
      " ('new', 1),\n",
      " ('President', 1),\n",
      " ('Joe', 1),\n",
      " ('Feds', 1),\n",
      " ('laying', 1),\n",
      " ('groundwork', 1),\n",
      " ('ensure', 1),\n",
      " ('hears', 1),\n",
      " ('Canadian', 1),\n",
      " ('priorities', 1),\n",
      " ('ambassador', 1),\n",
      " ('says', 1),\n",
      " ('Conservatives', 1),\n",
      " ('for', 1),\n",
      " ('special', 1),\n",
      " ('committee', 1),\n",
      " ('devoted', 1),\n",
      " ('Canada', 1),\n",
      " ('relations', 1)]\n",
      "[(0.0, None),\n",
      " (0.0, None),\n",
      " (0.0, None),\n",
      " (0.0, None),\n",
      " (0.0, None),\n",
      " (0.0, None),\n",
      " (0.0, None),\n",
      " (0.0, None),\n",
      " (0.0, None),\n",
      " (0.0, None),\n",
      " (0.0, None),\n",
      " (0.0, None),\n",
      " (0.0, None),\n",
      " (0.0, None),\n",
      " (0.08333333333333333, 0.0),\n",
      " (0.08333333333333333, 0.9166666666666666),\n",
      " (0.09090909090909091, 0.45454545454545453),\n",
      " (0.1, 0.0),\n",
      " (0.1, 0.1),\n",
      " (0.1, 0.7),\n",
      " (0.1, 0.9),\n",
      " (0.125, 0.0),\n",
      " (0.125, 0.125),\n",
      " (0.125, 0.875)]\n"
     ]
    }
   ],
   "source": [
    "#_09\n",
    "\n",
    "# Define Function\n",
    "def call_function_on_sentences_and_terms(sentences, terms, func):\n",
    "    \n",
    "    # Call function passed in as argument with sentences and terms as parameters\n",
    "    res = func(sentences, terms)\n",
    "\n",
    "    # Return result\n",
    "    return res\n",
    "\n",
    "\n",
    "# Call function on test input(s) and print returned values \n",
    "pprint(call_function_on_sentences_and_terms(list_of_sentences, list_of_terms, count_all_words))\n",
    "pprint(call_function_on_sentences_and_terms(list_of_sentences, list_of_terms, analyze_sentences_and_terms))\n",
    "    \n",
    "\n",
    "# Store your function in assignment variable\n",
    "_09 = call_function_on_sentences_and_terms # do not change this variable name"
   ]
  },
  {
   "cell_type": "markdown",
   "metadata": {},
   "source": [
    "## Question 10:\n",
    "\n",
    "<div class=\"alert alert-block alert-info\">  \n",
    "It doesn't come up often, but sometimes, you need to be able to tell tell Python to do nothing. (Any function that doesn't explicitly return a value will implicitly return 'None' by default).\n",
    "</div>\n",
    "<div class=\"alert alert-block alert-success\">\n",
    "Create a function that takes in two arguments and does nothing at all!\n",
    "</div>"
   ]
  },
  {
   "cell_type": "code",
   "execution_count": 12,
   "metadata": {},
   "outputs": [
    {
     "name": "stdout",
     "output_type": "stream",
     "text": [
      "None\n"
     ]
    }
   ],
   "source": [
    "#_10\n",
    "\n",
    "# Define Function\n",
    "def do_nothing(arg_1, arg_2):\n",
    "    \n",
    "    # Do nothing\n",
    "    pass\n",
    "\n",
    "# Call function on test input(s) and print returned values \n",
    "print(do_nothing(list_of_sentences, list_of_terms))\n",
    "\n",
    "# Store your function in assignment variable\n",
    "_10 = do_nothing # do not change this variable name"
   ]
  },
  {
   "cell_type": "markdown",
   "metadata": {},
   "source": [
    "## Question 11:\n",
    "\n",
    "<div class=\"alert alert-block alert-info\">  \n",
    "Most of the time, when you're using classes, functions, and methods from Python packages (such as Pandas and Numpy), you're only required to pass a small number of arguments compared to the total number of arguments you *could*, hypothetically, be passing. This is because the vast majority of the arguments in any given function have default values that -- if not otherwise specified -- are used. </div>\n",
    "<div class=\"alert alert-block alert-success\">\n",
    "Create a function that is identical to the function you created in Question 9, except that its third parameter defaults to the 'do_nothing' function we created in the previous question.\n",
    "</div>"
   ]
  },
  {
   "cell_type": "code",
   "execution_count": 13,
   "metadata": {},
   "outputs": [
    {
     "name": "stdout",
     "output_type": "stream",
     "text": [
      "None\n",
      "[('to', 5),\n",
      " ('Trudeau', 3),\n",
      " ('Biden', 3),\n",
      " ('with', 2),\n",
      " ('Harris', 2),\n",
      " ('call', 2),\n",
      " ('US', 2),\n",
      " ('first', 1),\n",
      " ('foreign', 1),\n",
      " ('leader', 1),\n",
      " ('speak', 1),\n",
      " ('fondly', 1),\n",
      " ('recalls', 1),\n",
      " ('years', 1),\n",
      " ('in', 1),\n",
      " ('Montreal', 1),\n",
      " ('during', 1),\n",
      " ('Kamala', 1),\n",
      " ('takes', 1),\n",
      " ('traditional', 1),\n",
      " ('approach', 1),\n",
      " ('Vice', 1),\n",
      " ('Presidency', 1),\n",
      " ('and', 1),\n",
      " ('party', 1),\n",
      " ('leaders', 1),\n",
      " ('extend', 1),\n",
      " ('congratulations', 1),\n",
      " ('new', 1),\n",
      " ('President', 1),\n",
      " ('Joe', 1),\n",
      " ('Feds', 1),\n",
      " ('laying', 1),\n",
      " ('groundwork', 1),\n",
      " ('ensure', 1),\n",
      " ('hears', 1),\n",
      " ('Canadian', 1),\n",
      " ('priorities', 1),\n",
      " ('ambassador', 1),\n",
      " ('says', 1),\n",
      " ('Conservatives', 1),\n",
      " ('for', 1),\n",
      " ('special', 1),\n",
      " ('committee', 1),\n",
      " ('devoted', 1),\n",
      " ('Canada', 1),\n",
      " ('relations', 1)]\n",
      "[(0.0, None),\n",
      " (0.0, None),\n",
      " (0.0, None),\n",
      " (0.0, None),\n",
      " (0.0, None),\n",
      " (0.0, None),\n",
      " (0.0, None),\n",
      " (0.0, None),\n",
      " (0.0, None),\n",
      " (0.0, None),\n",
      " (0.0, None),\n",
      " (0.0, None),\n",
      " (0.0, None),\n",
      " (0.0, None),\n",
      " (0.08333333333333333, 0.0),\n",
      " (0.08333333333333333, 0.9166666666666666),\n",
      " (0.09090909090909091, 0.45454545454545453),\n",
      " (0.1, 0.0),\n",
      " (0.1, 0.1),\n",
      " (0.1, 0.7),\n",
      " (0.1, 0.9),\n",
      " (0.125, 0.0),\n",
      " (0.125, 0.125),\n",
      " (0.125, 0.875)]\n"
     ]
    }
   ],
   "source": [
    "#_11\n",
    "\n",
    "# Define Function with default parameter for 'function'\n",
    "def call_function_with_default(sentences, terms, func=do_nothing):\n",
    "    \n",
    "    # Call function passed in as argument with sentences and terms as parameters\n",
    "    res = func(sentences, terms)\n",
    "\n",
    "    # Return result\n",
    "    return res\n",
    "\n",
    "\n",
    "# Call function on test input(s) and print returned values \n",
    "pprint(call_function_with_default(list_of_sentences, list_of_terms))\n",
    "pprint(call_function_with_default(list_of_sentences, list_of_terms, count_all_words))\n",
    "pprint(call_function_with_default(list_of_sentences, list_of_terms, analyze_sentences_and_terms))\n",
    "    \n",
    "\n",
    "# Store your function in assignment variable\n",
    "_11 = call_function_with_default # do not change this variable name"
   ]
  },
  {
   "cell_type": "markdown",
   "metadata": {},
   "source": [
    "## Question 12:\n",
    "\n",
    "<div class=\"alert alert-block alert-info\">  \n",
    "Did you know that a function can call itself? It's true! If you've spent any time at all in the 'Programmer Humour' subreddit, you've probably seen more than your fair share of memes about 'recursion', which is just a term used to describe functions or methods which refer to themselves. Despite all of the (apparently exasperated) press it seems to get, recursion is both simple to understand and incredibly useful!\n",
    "</div>\n",
    "<div class=\"alert alert-block alert-success\">\n",
    "Define a function that takes in two arguments: a sentence (in the form of a list of strings), and a term (in the form of a string). Your function should perform the following steps, in order: (1) remove the first word from the list of strings and check to see if it is identical to the word passed in as the 'term' argument, (2a) if it is, return the remainder of the list of strings; or (2b) if it is not, call this function again, passing the remainder of the sentence (as a list of strings) and the term to it. If your function runs out of words before it finds the term it is looking for, or ever attempts to return a list with 0 words, it should return 'None'. \n",
    "</div>\n",
    "<div class=\"alert alert-block alert-warning\">\n",
    "Hint 1: there's an elegant way to remove an item from a list and return it using a single method; see if you can find out which method it is! \n",
    "</div>\n",
    "<div class=\"alert alert-block alert-warning\">\n",
    "Hint 2: you might want to consider programming in a way for your function to recognize when you've run out of words and return 'None'.\n",
    "</div>"
   ]
  },
  {
   "cell_type": "code",
   "execution_count": 14,
   "metadata": {},
   "outputs": [
    {
     "name": "stdout",
     "output_type": "stream",
     "text": [
      "None\n",
      "['fondly', 'recalls', 'years', 'in', 'Montreal', 'during', 'call', 'with', 'Trudeau']\n",
      "['takes', 'traditional', 'approach', 'to', 'Vice', 'Presidency']\n",
      "['first', 'foreign', 'leader', 'to', 'speak', 'with', 'Biden']\n",
      "None\n",
      "None\n"
     ]
    }
   ],
   "source": [
    "#_12\n",
    "\n",
    "\n",
    "# Initialize the strings we'll use to test the function\n",
    "word_list_1 = [\"Trudeau\", \"first\", \"foreign\", \"leader\", \"to\", \"speak\", \"with\", \"Biden\"] # CTV News, Jan 22nd, 2021\n",
    "word_list_2 = [\"Harris\", \"fondly\", \"recalls\", \"years\", \"in\", \"Montreal\", \"during\", \"call\", \"with\", \"Trudeau\"] #CTV News, Feb 1st, 2021\n",
    "word_list_3 = [\"Kamala\", \"Harris\", \"takes\", \"traditional\", \"approach\", \"to\", \"Vice\", \"Presidency\"] # NPR, Feb 4th, 2021\n",
    "\n",
    "\n",
    "# Define Function\n",
    "def sentence_recursion(sentence, term):\n",
    "    \n",
    "    # Get first word in sentence and remove it from the list of words\n",
    "    first_word = sentence.pop(0)\n",
    "    \n",
    "    # Determine if word is identical to the term ...\n",
    "    if first_word == term:\n",
    "        # ... if so, check if any words remain in sentence:\n",
    "        if sentence: \n",
    "            # ... if so, return those words\n",
    "            return sentence\n",
    "        # ... otherwise ...\n",
    "        else:\n",
    "            # ... return None\n",
    "            return None\n",
    "    \n",
    "    # ... if not ...\n",
    "    else:\n",
    "        # Check to see if any words remain ...\n",
    "        if sentence:\n",
    "        # ... if so, recur the function.\n",
    "            return sentence_recursion(sentence, term)\n",
    "        # ... otherwise ...\n",
    "        else:\n",
    "            # ... return none.\n",
    "            return None\n",
    "            \n",
    "\n",
    "\n",
    "\n",
    "# Call function on test input(s) and print returned values \n",
    "print(sentence_recursion(word_list_1.copy(), term_1))\n",
    "print(sentence_recursion(word_list_2.copy(), term_1))\n",
    "print(sentence_recursion(word_list_3.copy(), term_1))\n",
    "print(sentence_recursion(word_list_1.copy(), term_2))\n",
    "print(sentence_recursion(word_list_2.copy(), term_2))\n",
    "print(sentence_recursion(word_list_3.copy(), term_2))\n",
    "\n",
    "# Store your function in assignment variable\n",
    "_12 = sentence_recursion(word_list_2.copy(), \"Montreal\") # do not change this line"
   ]
  },
  {
   "cell_type": "code",
   "execution_count": 15,
   "metadata": {
    "deletable": false
   },
   "outputs": [],
   "source": [
    "## FINALIZE ASSIGNMENT\n",
    "\n",
    "import dill as pkl\n",
    "\n",
    "module = 5\n",
    "\n",
    "response_dict = {\n",
    "    \"student_id\": student_id,\n",
    "    \"grad_student\": \"undergrad\",\n",
    "    \"module\": module,\n",
    "    \"responses\": [\n",
    "        _01,\n",
    "        _02,\n",
    "        _03,\n",
    "        _04,\n",
    "        _05,\n",
    "        _06,\n",
    "        _07,\n",
    "        _08,\n",
    "        _09,\n",
    "        _10,\n",
    "        _11,\n",
    "        _12,\n",
    "    ],\n",
    "    \"code_cells\": In\n",
    "}\n",
    "\n",
    "module_string = f\"module_{response_dict['module']}\"\n",
    "filename = f\"{module_string}__student_{student_id}.pkl\"\n",
    "\n",
    "with open(f\"./{filename}\", 'wb') as stream:\n",
    "    pkl.dump(response_dict, stream)\n"
   ]
  },
  {
   "cell_type": "code",
   "execution_count": null,
   "metadata": {},
   "outputs": [],
   "source": []
  }
 ],
 "metadata": {
  "kernelspec": {
   "display_name": "Python 3",
   "language": "python",
   "name": "python3"
  },
  "language_info": {
   "codemirror_mode": {
    "name": "ipython",
    "version": 3
   },
   "file_extension": ".py",
   "mimetype": "text/x-python",
   "name": "python",
   "nbconvert_exporter": "python",
   "pygments_lexer": "ipython3",
   "version": "3.8.5"
  },
  "toc": {
   "base_numbering": 1,
   "nav_menu": {},
   "number_sections": false,
   "sideBar": true,
   "skip_h1_title": false,
   "title_cell": "Table of Contents",
   "title_sidebar": "Contents",
   "toc_cell": false,
   "toc_position": {},
   "toc_section_display": true,
   "toc_window_display": false
  },
  "varInspector": {
   "cols": {
    "lenName": 16,
    "lenType": 16,
    "lenVar": 40
   },
   "kernels_config": {
    "python": {
     "delete_cmd_postfix": "",
     "delete_cmd_prefix": "del ",
     "library": "var_list.py",
     "varRefreshCmd": "print(var_dic_list())"
    },
    "r": {
     "delete_cmd_postfix": ") ",
     "delete_cmd_prefix": "rm(",
     "library": "var_list.r",
     "varRefreshCmd": "cat(var_dic_list()) "
    }
   },
   "types_to_exclude": [
    "module",
    "function",
    "builtin_function_or_method",
    "instance",
    "_Feature"
   ],
   "window_display": false
  }
 },
 "nbformat": 4,
 "nbformat_minor": 4
}
