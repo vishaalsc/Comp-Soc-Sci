{
 "cells": [
  {
   "cell_type": "markdown",
   "metadata": {},
   "source": [
    "<br><br><font color=\"gray\">DOING COMPUTATIONAL SOCIAL SCIENCE<br>MODULE 9 AND 10<strong> PROBLEM SETS</strong></font>\n",
    "\n",
    "# <font color=\"#49699E\" size=40>Probability, Generative Models, and Bayesian Inference</font>\n",
    "This module notebook assignment is organized into two parts. \n",
    "\n",
    "- **[PART A](#SECAEP) (Accompanying Chapter 28, \"Probability: A Primer\")**\n",
    "    - [Exercises and Practice Problems](#SECAEP) (All students)\n",
    "- **[PART B](#SECBEP) (Accompanying Chapter 30, \"Bayesian Regression\"**)\n",
    "    - [Exercises and Practice Problems](#SECBEP) (All students)\n",
    "- **[PART C](#SECCEP) (Accompanying Chapter 31, \"Hierarchical Bayesian Regression\"**)\n",
    "    - [Exercises and Practice Problems](#SECcEP) (All students)"
   ]
  },
  {
   "cell_type": "markdown",
   "metadata": {},
   "source": [
    "# What You Need to Know Before Getting Started\n",
    "\n",
    "- **You can consult any resources you want when completing these exercises and problems**. Just as it is in the \"real world:\" if you can't figure out how to do something, look it up. My recommendation is that you check the relevant parts of the assigned reading or search for inspiration on [https://stackoverflow.com](https://stackoverflow.com).\n",
    "- **Each problem is worth 1 point**. All problems are equally weighted.\n",
    "- **The information you need for each problem set is provided in the blue and green cells.** General instructions / the problem set preamble are in the blue cells, and instructions for specific problems are in the green cells. **You have to execute all of the code in the problem set, but you are only responsible for entering code into the code cells that immediately follow a green cell**. You will also recognize those cells because they will be incomplete. You need to replace each `____` with the code that will make the cell execute properly.\n",
    "- **The comments in the problem cells contain clues indicating what the following line of code is supposed to do.** Use these comments as a guide when filling in the blanks. \n",
    "- **Each problem cell stores one object named according to the problem (e.g. _09)**. These are not important for you, but we use them to help grade your work efficiently, so **do not delete them or change their names**. If you do, you will lose marks.\n",
    "- **You can ask for help**. If you run into problems, you can reach out to John (john.mclevey@uwaterloo.ca) or Pierson (pbrowne@uwaterloo.ca) for help. You can ask a friend for help if you like, regardless of whether they are enrolled in the course.\n",
    "\n",
    "Finally, remember that you do not need to \"master\" this content before moving on to other course materials, as what is introduced here is reinforced throughout the rest of the course. You will have plenty of time to practice and cement your new knowledge and skills."
   ]
  },
  {
   "cell_type": "markdown",
   "metadata": {},
   "source": [
    "# How to Submit Your (Pickled) Assignment! \n",
    "\n",
    "Since we've had to rethink the way we deliver, collect, and evaluate these problem sets, we want to be very clear about what you need to do to properly submit this module notebook assignment. Please read the following explanation of our process so that you understand how this works, and what you need to do.\n",
    "\n",
    "At the very end of this notebook, there is a code cell that will compile all of your answers to every problem in the assignment and save them as a 'pickle' file (`.pkl`) in the current working directory. You can execute that cell as many times as you like. Each time you run it, it will overwrite the old pickle with your updated answers. **Once you've ensured that everything in the notebook is complete and finished to your satisfaction, it's up to you to get the pickle that you just created and upload it to the appropriate Learn dropbox for this module.** The file you are looking for will not exist until you run the cells at the end of the notebook. Once it has been created, it will follow this naming convention: \n",
    "\n",
    "> `module_[number]__student_[your_student_number].pkl`\n",
    "\n",
    "To be very clear, **you need to submit the pickle to Learn**. You do not need to upload the Jupyter Notebook as initially planned. **Just the pickle!**"
   ]
  },
  {
   "cell_type": "markdown",
   "metadata": {},
   "source": [
    "## Make Sure Everything is Good to Go\n",
    "\n",
    "It's generally a good idea to do a 'fresh' run of your entire notebook before you submit your assignment to make sure that everything is working as it should be. You can use the button with the 'Fast-Forward' arrows in the Jupyter toolbar above to restart the kernel (resetting everything to initial conditions) and running every code cell in the notebook, in order. You can also select 'Restart and Run All' from the Kernel dropdown menu. If the entire notebook runs without throwing any errors, you should be good to go!\n",
    "\n",
    "If you're running into issues, make sure that you haven't changed any of the 'answer' variable names we provided you with (e.g., we asked you to store your answer to the first question in a variable called `_01`). If you change an answer's variable name or don't store your answer in that variable, the project won't finalize properly and you won't get proper credit for your work. The same goes for the `student_id` metadata variable we ask you to complete immediately below; if any of those are missing, haven't been filled in properly, or have been renamed, issues may arise during the grading process and you will not receive proper credit. So make sure you enter your student information, and don't delete or change the names of the variables that store your answers to each problem!"
   ]
  },
  {
   "cell_type": "markdown",
   "metadata": {},
   "source": [
    "## IMPORTANT: ADD YOUR STUDENT ID NUMBER\n",
    "\n",
    "<div class=\"alert alert-block alert-danger\">\n",
    "To evaluate your work, we need you to provide your student number. In the cell below, <strong>replace '12345678' with your student number</strong>. The student_id' variable needs to be an integer, so <strong>do not wrap it in quotes.</strong>\n",
    "</div>"
   ]
  },
  {
   "cell_type": "code",
   "execution_count": null,
   "metadata": {},
   "outputs": [],
   "source": [
    "# Your UWaterloo student ID number\n",
    "student_id = 12345678 "
   ]
  },
  {
   "cell_type": "markdown",
   "metadata": {},
   "source": [
    "## Package Imports"
   ]
  },
  {
   "cell_type": "code",
   "execution_count": null,
   "metadata": {},
   "outputs": [],
   "source": [
    "import pandas as pd \n",
    "import numpy as np\n",
    "import matplotlib.pyplot as plt\n",
    "import seaborn as sns\n",
    "\n",
    "import pymc3 as pm\n",
    "import arviz as az\n",
    "\n",
    "import warnings\n",
    "warnings.filterwarnings(\"ignore\")\n",
    "\n",
    "def plot_ppd(pos_pred, outcome_var):\n",
    "\n",
    "    mu_hpd = az.hdi(pos_pred['μ'], 0.89)\n",
    "    D_sim = pos_pred['y'].mean(axis=0)\n",
    "\n",
    "    fig, ax = plt.subplots(figsize=(9, 9))\n",
    "\n",
    "    plt.errorbar(\n",
    "        outcome_var,\n",
    "        pos_pred['y'].mean(0),\n",
    "        yerr=np.abs(pos_pred[\"y\"].mean(0) - mu_hpd.T),\n",
    "        fmt=\"C0o\"\n",
    "    )\n",
    "\n",
    "    ax = sns.scatterplot(outcome_var, D_sim, s=1, color=\"darkgrey\")\n",
    "\n",
    "    min_x, max_x = outcome_var.min(), outcome_var.max()\n",
    "\n",
    "    ax.plot([min_x, max_x], [min_x, max_x], \"k--\")\n",
    "    ax.set_ylabel(\"Predicted Log(Insurance Charge)\")\n",
    "    ax.set_xlabel(\"Observed Log(Insurance Charge)\")\n"
   ]
  },
  {
   "cell_type": "markdown",
   "metadata": {},
   "source": [
    "# <font color=\"#49699E\">PART A | CHAPTER 28</font>\n",
    "<a id=\"SECAEP\"></a>"
   ]
  },
  {
   "cell_type": "markdown",
   "metadata": {},
   "source": [
    "## Question 1:\n",
    "<div class=\"alert alert-block alert-success\">\n",
    "Answer the following four questions by filling in the blanks. Your answers should take the form of integers, floats (which can be expressed in fractional format), or strings. The course readings cover all of the distributions needed to answer the questions. <br>\n",
    "<ol>\n",
    "    <li> Imagine you have a busted-up old truck that doesn't start on its own; you have to hit the engine block with a sledgehammer while the starter motor is engaged to even have a chance of getting it to turn over. From your experience with the truck, this leads to one of five different outcomes: the truck emits a loud bang and a plume of smoke, the truck misfires, the truck briefly comes to life before sputtering out, the truck starts normally, or nothing happens. As far as you can tell, the frequency of each outcome is identical. Let $X$ be a random variable that is mapped onto each of the possible outcomes. What is the distribution of $X$?      \n",
    "        <br><br>\n",
    "    <li> Let's say you attempt to start the car with a single swing of the sledgehammer. What is the probability that $X$ = \"Loud Bang, Plume of Smoke\"?\n",
    "        <br><br>\n",
    "    <li> As you (and your long-suffering neighbours) are now keenly aware, any one swing of the sledgehammer is unlikely to start the car properly. For any given swing of the sledgehammer, what is the probability that the truck <b>won't</b> fully start (and stay running)?  \n",
    "        <br><br>\n",
    "    <li> Imagine that you're trying to start the truck, but it's being particularly recalcitrant today. It takes you 10 swings of the sledgehammer to get it to start 'properly'. What distribution would you use to describe the probability of observing 4 misfires during the startup procedure?  \n",
    "</ol>\n",
    "</div>"
   ]
  },
  {
   "cell_type": "code",
   "execution_count": null,
   "metadata": {},
   "outputs": [],
   "source": [
    "#_01\n",
    "\n",
    "# 1. Distribution of X\n",
    "_01_1 = _____\n",
    "\n",
    "# 2. Probability of X = 'Loud Bang, Plume of Smoke'\n",
    "_01_2 = _____\n",
    "\n",
    "# 3. Probability that truck does not start properly and stay running\n",
    "_01_3 = _____\n",
    "\n",
    "# 4. Distribution you would use to determine probability of observing 4 misfires in 10 attempts\n",
    "_01_4 = _____\n",
    "\n",
    "# Store the result in the assignment variable\n",
    "_01 = (_01_1.lower(), _01_2, _01_3, _01_4.lower()) # do not change"
   ]
  },
  {
   "cell_type": "markdown",
   "metadata": {},
   "source": [
    "## Question 2:\n",
    "<div class=\"alert alert-block alert-success\">\n",
    "Answer the following four questions by filling in the blanks. Your answers should take the form of integers, floats (which can be expressed in fractional format), or strings. The course readings cover all of the distributions needed to answer the questions. <br>\n",
    "<ol>\n",
    "    <li> You have a gregarious cat named Solomon for whom the undisupted highlight of each day is wet food feeding time. You give him his wet food every evening at 9:00pm sharp, and you always feed him in the kitchen. Solomon has a well-tuned internal clock, and can usually be found waiting in the kitchen (very impatiently) up to 10 minutes before scheduled mealtimes. Sometimes, however, Solomon will be elsewhere in the house -- blissfully asleep -- when 9:00pm rolls around. The moment he hears you pick up a tin of cat food, he'll immediately start scrambling towards the kitchen at breakneck speed. Amused by his behaviour, you have decided to describe the amount of time it takes for Solomon to appear in the kitchen after 9:00pm using a random variable $\\text{TUS}$ (which stands for \"Time Until Solomon\"). You measure this time by starting a stopwatch the moment you pick up a can of wet cat food (precisely at 9:00pm), and stop the stopwatch as soon as Solomon enters the kitchen. On most days, $\\text{TUS} =$ 0, because Solomon is already in the kitchen, but on other days, the amount of time it takes him depends on where in the house he's sleeping and how sleepy he is. He's more likely to sleep in rooms close to the kitchen than he is in rooms further away. What is the distribution of $\\text{TUS}$?\n",
    "        <br><br>\n",
    "    <li> Approximately how much probability should the distribution of $\\text{TUS}$ place on negative-valued events? (Your answer should be numerical)\n",
    "        <br><br>\n",
    "    <li> Solomon is an indoor cat, but he's obsessed with the great outdoors. One of his favourite daytime activities is to sit at the screen door and yowl loudly for minutes on end, hoping to convince you to let him out (it hasn't worked yet, and you're pretty sure it never will). Amused by your use of probability distributions to describe your cat's idiosyncratic behaviour (and lacking anything better to do during COVID lockdown), you decide to describe the amount of time Solomon spends yowling at the door using a random variable $\\text{YD}$ (which stands for \"Yowls Duration\"). On days when Solomon decides to have a yowling session, you'd say that -- on average -- he spends about 20 minutes making a ruckus, but that number is about equally likely to be higher or lower on any given day. How is $\\text{YD}$ distributed?\n",
    "        <br><br>\n",
    "    <li> What is the name of the parameter you would use to describe the average (mean) value of $\\text{YD}$? \n",
    "</ol>\n",
    "</div>"
   ]
  },
  {
   "cell_type": "code",
   "execution_count": null,
   "metadata": {},
   "outputs": [],
   "source": [
    "#_02\n",
    "\n",
    "# 1. Distribution of TUS\n",
    "_02_1 = _____\n",
    "\n",
    "# 2. Approximate amount of probability TUS places on negative-valued events\n",
    "_02_2 = _____\n",
    "\n",
    "# 3. Distribution of YD\n",
    "_02_3 = _____\n",
    "\n",
    "# 4. Name of parameter describing mean value of YD\n",
    "_02_4 = _____\n",
    "\n",
    "\n",
    "# Store the result in the assignment variable\n",
    "_02 =  (_02_1.lower(), _02_2, _02_3.lower(), _02_4.lower())  #do not change "
   ]
  },
  {
   "cell_type": "markdown",
   "metadata": {},
   "source": [
    "## Question 3:\n",
    "<div class=\"alert alert-block alert-success\">\n",
    "Despite your vigilance, Solomon occasionally manages to slip out the screen door and into your backyard. You almost always manage to re-capture him and bring him inside, but one time, you didn't need to: Solomon escaped during the winter and, after landing with all four of his paws in the snow, decided that he wasn't a fan and sauntered back indoors of his own accord. As a result of his unpleasant experience, you've noticed that Solomon is less likely to have a yowl session on days where the weather looks cold or inclement.  \n",
    "<br><br>\n",
    "    It's morning. You're still in bed, but you can hear that Solomon is yowling away downstairs. The overnight forecast predicted good weather, with only a 30% chance of there being snow on the ground this morning. You want to get out for a walk today, but in order to know how to dress, you want to know if it snowed or not! You could, of course, just get up and look out the window, but your bed is warm and you don't want to leave just yet. Instead, you decide to run some quick calculations in your head to see if Solomon's yowling will help you make a decision. \n",
    "<br><br>   \n",
    "Here's what you know:\n",
    "<ul>\n",
    "    <li> The overnight weather forecast called for a 30% chance of snow (if it snowed, you would <b>not</b> consider today to be a 'good weather' day. If there was no snow last night, you would consider it to be a 'good weather' day). \n",
    "    <li> Solomon is yowling right now.\n",
    "    <li> Solomon is more likely to yowl on 'good weather' days: he yowls on  80% of the days when the weather is good.\n",
    "    <li> If we assume the weather forecast was an accurate description of the probability of snow, then Solmon had a 66% chance of yowling today (regardless of the weather).\n",
    "</ul>\n",
    "<br>\n",
    "You have all of the information you need to use Bayes theorem to solve for 'the probability of good weather, given that Solomon is yowling.' For each of the prompts below, supply the numerical value (in decimal format, not percentages) for that component of the Bayes theorem formula.\n",
    "</div>"
   ]
  },
  {
   "cell_type": "code",
   "execution_count": null,
   "metadata": {},
   "outputs": [],
   "source": [
    "#_03\n",
    "\n",
    "# Provide the numerical value of the Likelihood\n",
    "_03_likelihood = _____\n",
    "\n",
    "# Provide the numerical value of the 'Prior'\n",
    "_03_prior = _____\n",
    "\n",
    "# Provide the numerical value of the Total Probability\n",
    "_03_total_probability = _____\n",
    "\n",
    "# Store the result in the assignment variable\n",
    "_03 = (_03_likelihood, _03_prior, _03_total_probability) # do not change"
   ]
  },
  {
   "cell_type": "markdown",
   "metadata": {},
   "source": [
    "## Question 4:\n",
    "<div class=\"alert alert-block alert-success\">\n",
    "Calculate the probability of today being a good weather day, given that Solomon is yowling. (Your answer will automatically be rounded to 2 decimal places)\n",
    "</div>"
   ]
  },
  {
   "cell_type": "code",
   "execution_count": null,
   "metadata": {},
   "outputs": [],
   "source": [
    "#_04\n",
    "\n",
    "final_prob =  _____\n",
    "\n",
    "print(round(final_prob, 2))\n",
    "\n",
    "# Store the result in the assignment variable\n",
    "_04 = round(final_prob, 2) # do not change this variable name"
   ]
  },
  {
   "cell_type": "markdown",
   "metadata": {},
   "source": [
    "# <font color=\"#49699E\">PART B | CHAPTER 30</font>\n",
    "<a id=\"SECBEP\"></a>"
   ]
  },
  {
   "cell_type": "markdown",
   "metadata": {},
   "source": [
    "## Question 5:\n",
    "<div class=\"alert alert-block alert-info\">  \n",
    "For the remainder of the assignment, we're going to be working with a dataset comprised of observations about how much money individuals were charged by U.S. medical insurance companies, along with demographic data about the individual in question. The data was previously used in Brett Lantz's book <i>Machine Learning with R</i>, and can be found here: https://www.kaggle.com/mirichoi0218/insurance. \n",
    "    <br><br>\n",
    "As with all statistical modelling, our first step should involve loading the data, inspecting it, standardizing the numerical variables it contains, and pre-processing the categoricals. That's what you're going to be doing in this first question, but with one added twist: the 'charges' variable -- as with so many other monetary variables -- is heavily skewed and will need to be transformed before it can be safely used in our analysis. We'll use a $\\log$ transformation, which will produce a variable which tracks the magnitude of the 'charges' variable. \n",
    "    <br><br>\n",
    "    One final note: we won't be using the 'children' variable in this assignment, so feel free to ignore it.\n",
    "</div>\n",
    "<div class=\"alert alert-block alert-success\">\n",
    "Your tasks for this question are:\n",
    "<ol>\n",
    "    <li> Load the insurance dataset.\n",
    "    <li> Apply a $\\log$ transformation to the 'charges' variable (you can do this using the 'log' function from the 'numpy' package)\n",
    "    <li> Write a function that standardizes numerical data and apply it to each of the continuous numerical variables in the dataset\n",
    "    <li> Convert any binary variables into numerical binary variables\n",
    "    <li> Pre-process any categorical variables\n",
    "</ol>\n",
    "You should also take the time to inspect the full dataset and pairs plot (code provided after the end of question 5).\n",
    "</div>"
   ]
  },
  {
   "cell_type": "code",
   "execution_count": null,
   "metadata": {},
   "outputs": [],
   "source": [
    "#_05\n",
    "\n",
    "# Load dataset\n",
    "df = pd.read_csv(\"_____\")\n",
    "\n",
    "\n",
    "# Apply log transform\n",
    "df['logcharge'] = np._____(df._____)\n",
    "\n",
    "\n",
    "# Write function to standardize numerical data\n",
    "def std(x):\n",
    "    return _____\n",
    "\n",
    "\n",
    "# Apply 'std' function to continuous variables\n",
    "age_std = std(df.age)\n",
    "bmi_std = std(df.bmi)\n",
    "logcharge_std = std(df.logcharge)\n",
    "\n",
    "\n",
    "# Convert Binary Variables into Binary Numerical Variables (1 and 0 only)\n",
    "sex_bin = _____.where(df.sex == \"female\", 1, 0)\n",
    "smoke_bin = _____.where(df.smoker == \"yes\", 1, 0)\n",
    "\n",
    "\n",
    "# Pre-Process Categorical Variables\n",
    "region_cat = pd._____(df.region)\n",
    "region_idx = _____.codes\n",
    "n_regions = len(set(region_idx))\n",
    "\n",
    "\n",
    "# Store the result in the assignment variable\n",
    "_05 = logcharge_std # do not change this variable name"
   ]
  },
  {
   "cell_type": "markdown",
   "metadata": {},
   "source": [
    "### Optional:"
   ]
  },
  {
   "cell_type": "code",
   "execution_count": null,
   "metadata": {},
   "outputs": [],
   "source": [
    "# Inspect dataset\n",
    "df"
   ]
  },
  {
   "cell_type": "code",
   "execution_count": null,
   "metadata": {},
   "outputs": [],
   "source": [
    "# Inspect pairsplot\n",
    "sns.pairplot(df, corner=True)"
   ]
  },
  {
   "cell_type": "markdown",
   "metadata": {},
   "source": [
    "## Question 6:\n",
    "<div class=\"alert alert-block alert-info\">  \n",
    "In this question, we're going to start our Bayesian modelling journey by developing a very simple model that uses age to predict charges (on the $\\log$ scale). It's up to you to set your own priors, but you should make certain double-check your prior predictive plot, as you'll be graded on the sensibility of your priors. (Not to worry: you'll get full credit as long as your priors aren't completely out to lunch!) Also, be careful to use <code>pm.Deterministic</code> for your linear model: you'll need it later!\n",
    "</div>\n",
    "<div class=\"alert alert-block alert-success\">\n",
    "    Develop Bayesian regression using <code>age_std</code> as the predictor and <code>logcharge_std</code> as the outcome variable. Use <code>pm.Deterministic</code> for your linear model. Assign priors to the model as you see fit, but make sure to check what those priors are predicting using a prior predictive plot. Once you have tuned your priors, submit your prior predictive plot (this happens automatically).\n",
    "</div>"
   ]
  },
  {
   "cell_type": "code",
   "execution_count": null,
   "metadata": {},
   "outputs": [],
   "source": [
    "#_06\n",
    "\n",
    "# PyMC3 Model:\n",
    "with pm._____() as model_06:\n",
    "    \n",
    "    # Priors\n",
    "    α = _____\n",
    "    β = _____\n",
    "    σ = _____\n",
    "    \n",
    "    # Linear Model\n",
    "    μ = pm._____(\"μ\",_____)\n",
    "    \n",
    "    # Likelihood    \n",
    "    y = pm._____(\"y\", _____, _____, _____=logcharge_std)\n",
    "    \n",
    "    # Sample prior predictive\n",
    "    prior_predictive_06 = pm._____(\n",
    "        samples=50,\n",
    "        var_names=[\"α\", \"β\"],\n",
    "        random_seed=42\n",
    "    )\n",
    "    \n",
    "    \n",
    "# DO NOT CHANGE ANY OF THE CODE BELOW THIS LINE\n",
    "age_grid = np.linspace(-10, 10, 50)\n",
    "\n",
    "fig = plt.figure()\n",
    "plt.xlim((-10, 10))\n",
    "plt.ylim((-10, 10))\n",
    "\n",
    "for a, b in zip(prior_predictive_06[\"α\"], prior_predictive_06['β']):\n",
    "    charge_sim = a + b*age_grid\n",
    "    plt.plot(age_grid, charge_sim, c='k', alpha=0.4)\n",
    "    \n",
    "plt.axhspan(-2, 2, facecolor='black', alpha=0.2)\n",
    "plt.axvspan(-2, 2, facecolor='black', alpha=0.2)\n",
    "\n",
    "# Store the result in the assignment variable\n",
    "_06 = fig # do not change this variable name"
   ]
  },
  {
   "cell_type": "markdown",
   "metadata": {},
   "source": [
    "## Question 7:\n",
    "<div class=\"alert alert-block alert-info\">  \n",
    "Now that you've got a tuned set of priors, your model is ready to go! Time to sample it and produce some inferences!\n",
    "</div>\n",
    "<div class=\"alert alert-block alert-success\">\n",
    "Sample your model using PyMC3's default sampler. Inspect the trace plot for any issues. Produce an HDI plot of the results, using an HDI probability of 0.94. Submit the lower and upper limits of the HDI region (using a tuple, with the lower value first) for each estimated parameter, rounded to 2 decimal places.\n",
    "</div>"
   ]
  },
  {
   "cell_type": "code",
   "execution_count": null,
   "metadata": {},
   "outputs": [],
   "source": [
    "#_07\n",
    "\n",
    "with model_06:\n",
    "    trace_06 = pm._____(random_seed=42)\n",
    "    \n",
    "    az.plot_trace(trace_06, ['α', '_____', 'σ'])\n",
    "    \n",
    "    fig, axs = plt.subplots(3, 1, sharex=True, sharey=True, figsize=(9, 9))\n",
    "    az._____(\n",
    "        trace_06,\n",
    "        ax=axs,\n",
    "        var_names=['α', 'β', 'σ'],\n",
    "        round_to=2,\n",
    "    )\n",
    "    fig.tight_layout()\n",
    "    \n",
    "# Submit answers here:\n",
    "α_hdi = (_____, _____)\n",
    "β_hdi = (_____, _____)\n",
    "σ_hdi = (_____, _____)\n",
    "\n",
    "# Store the result in the assignment variable\n",
    "_07 = (\n",
    "    α_hdi, \n",
    "    β_hdi, \n",
    "    σ_hdi\n",
    ") # do not change this variable name"
   ]
  },
  {
   "cell_type": "markdown",
   "metadata": {},
   "source": [
    "## Question 8:\n",
    "<div class=\"alert alert-block alert-info\">  \n",
    "Even though we could get away with using one of the nicer-looking posterior predictive techniques on this model, we're going to want to make sure that everything we use is comparable to the plots from every other model. As such, we're going to ask you to skip ahead and produce a version of the posterior predictive plots in the chapter on Hierarchical regression. They'll be more useful that way!\n",
    "</div>\n",
    "<div class=\"alert alert-block alert-success\">\n",
    "Create a posterior predictive plot. Using between 2 and 4 sentences, interpret what the posterior predictive tells you about your model's ability to retrodict the observed data. Be specific and make references to course material from the readings for this module. Vague answers will not recieve full credit. \n",
    "</div>"
   ]
  },
  {
   "cell_type": "code",
   "execution_count": null,
   "metadata": {},
   "outputs": [],
   "source": [
    "#_08\n",
    "\n",
    "with model_06:\n",
    "    ppc_06 = pm._____(\n",
    "        trace_06,\n",
    "        var_names=['y', 'μ']\n",
    "    )\n",
    "\n",
    "plot_ppd(ppc_06, logcharge_std)\n",
    "\n",
    "# Store the result in the assignment variable\n",
    "_08 = \"\"\"\n",
    "\n",
    "SETENCE ONE OF YOUR INTERPRETATION GOES HERE.\n",
    "SETENCE TWO OF YOUR INTERPRETATION GOES HERE.\n",
    "SETENCE THREE OF YOUR INTERPRETATION GOES HERE (if necessary).\n",
    "SETENCE FOUR OF YOUR INTERPRETATION GOES HERE (if necessary).\n",
    "\n",
    "\"\"\" # do not change this variable name"
   ]
  },
  {
   "cell_type": "markdown",
   "metadata": {},
   "source": [
    "# <font color=\"#49699E\">PART C | CHAPTER 31</font>\n",
    "<a id=\"SECCEP\"></a>"
   ]
  },
  {
   "cell_type": "markdown",
   "metadata": {},
   "source": [
    "## Question 9:\n",
    "<div class=\"alert alert-block alert-info\">  \n",
    "    In the chapter on Bayesian Hierarchical Regression, we created a multilevel model <i>before</i> adding other variables to improve fit. We're going to do things the other way around this time; we'll start by adding more variables -- we'll get into the hierarchical content a little later on. \n",
    "</div>\n",
    "<div class=\"alert alert-block alert-success\">\n",
    "Create a new model that includes <code>age</code>, <code>sex</code>, <code>bmi</code>, and <code>smoker</code> as predictor variables. The <code>logcharge</code> variable should still be your outcome variable. Once you've sampled the model and confirmed that the trace plots don't expose any glaring issues, submit the mean value of the <code>α</code> parameter (alpha, in case it's difficult to see here), rounded to 2 decimal places. \n",
    "</div>"
   ]
  },
  {
   "cell_type": "code",
   "execution_count": null,
   "metadata": {
    "scrolled": false
   },
   "outputs": [],
   "source": [
    "#_09\n",
    "\n",
    "with pm.Model() as model_09:\n",
    "    \n",
    "    # Priors\n",
    "    α = _____\n",
    "    β_age = _____\n",
    "    β_sex = _____\n",
    "    β_bmi = _____\n",
    "    β_smoke=_____\n",
    "    σ = _____\n",
    "    \n",
    "    # Linear Model\n",
    "    μ = pm.Deterministic(\n",
    "        \"μ\", \n",
    "        _____\n",
    "    )\n",
    "    \n",
    "    # Likelihood    \n",
    "    y = pm._____(\"y\", _____, _____, _____=logcharge_std)\n",
    "    \n",
    "    # Sample\n",
    "    trace_09 = pm._____(random_seed=42)\n",
    "    \n",
    "    varlist =  [\n",
    "            'α', \n",
    "            \"β_age\",\n",
    "            \"β_sex\",\n",
    "            \"β_bmi\",\n",
    "            \"β_smoke\" ,\n",
    "            'σ'\n",
    "        ]\n",
    "    \n",
    "    # Plot Trace\n",
    "    az.plot_trace(\n",
    "        trace_09,\n",
    "        varlist\n",
    "    )\n",
    "    \n",
    "    # Plot Posterior\n",
    "    fig, axs = plt.subplots(6, 1, sharex=True, sharey=True, figsize=(9, 18))\n",
    "    az.plot_posterior(\n",
    "        trace_09,\n",
    "        ax=axs,\n",
    "        var_names=varlist,\n",
    "        round_to=2,\n",
    "    )\n",
    "    fig.tight_layout()\n",
    "    \n",
    "_09_α_mean = _____\n",
    "\n",
    "# Store the result in the assignment variable\n",
    "_09 = round(_09_α_mean, 2) # do not change this variable name"
   ]
  },
  {
   "cell_type": "markdown",
   "metadata": {},
   "source": [
    "## Question 10:\n",
    "\n",
    "<div class=\"alert alert-block alert-success\">\n",
    "Produce and examine the posterior predictive plot for the model you created and sampled in question 9. Using 2 to 5 sentences, describe the major differences (if any) between this posterior predictive plot and the one you produced in question 8. If the two are significantly different, why do you think that might be the case? If there is still obvious room for improvement, how could these improvements be implemented? Throughout, be specific and make references to course material from the readings for this module. Vague answers will not recieve full credit. \n",
    "</div>"
   ]
  },
  {
   "cell_type": "code",
   "execution_count": null,
   "metadata": {},
   "outputs": [],
   "source": [
    "#_10\n",
    "\n",
    "with model_09:\n",
    "    ppc_09 = pm._____(\n",
    "        trace_09,\n",
    "        var_names=['y', 'μ']\n",
    "    )\n",
    "\n",
    "plot_ppd(ppc_09, logcharge_std)\n",
    "\n",
    "\n",
    "# Store the result in the assignment variable\n",
    "_10 = \"\"\"\n",
    "\n",
    "SETENCE ONE OF YOUR INTERPRETATION GOES HERE.\n",
    "SETENCE TWO OF YOUR INTERPRETATION GOES HERE.\n",
    "SETENCE THREE OF YOUR INTERPRETATION GOES HERE (if necessary).\n",
    "SETENCE FOUR OF YOUR INTERPRETATION GOES HERE (if necessary).\n",
    "SETENCE FIVE OF YOUR INTERPRETATION GOES HERE (if necessary).\n",
    "\n",
    "\"\"\" # do not change this variable name"
   ]
  },
  {
   "cell_type": "markdown",
   "metadata": {},
   "source": [
    "## Question 11:\n",
    "\n",
    "<div class=\"alert alert-block alert-info\">  \n",
    "This is the last time we're going to ask you to fit a model for this assignment; you have my word! In this question, we're going to ask you to take your question 9 model a bit further by turning it into a hierarchical model, using <code>region</code> as the clustering variable. In the textbook, we accounted for the influence of the group-level variables on both the intercept (α) and one of the coefficients (β_spend). For this question, you're only going to have to split your model's intercept <code>α</code> into 4, using the technique we showed you in the textbook. <br><br>\n",
    "    Once that's accomplished, you'll likely notice that your model is ill-behaved. You'll probably get many, many divergences. Spend some time tweaking your priors (and potentially replacing your Exponential distributions with Gamma distributions) until your divergences are down to a reasonable level; say, fewer than 10. We've tweaked some of the other settings for you which will help settle your model down (at the expense of it taking a bit longer to sample). Normally, even a single divergence would call a model's validity into question, but we'll let it slide this time. Once you've gotten a well-behaved model, be sure to examine the trace plots to confirm that everything is okay, and then feel free to move onto question 12! \n",
    "</div>\n",
    "<div class=\"alert alert-block alert-success\">\n",
    "Convert the model you created for question 9 into a partially-pooled hierarchical model. If your model produces divergences while sampling, alter your priors and hyperpriors until your model produces 10 divergences or fewer. Results from your final trace (the one you ultimately decide to stick with) will be submitted automatically. In order to ensure that your final model is the one that gets submitted when you pickle your assignment <b>be certain to restart the kernal and re-run your entire notebook once through immediately before submitting!</b>\n",
    "</div>"
   ]
  },
  {
   "cell_type": "code",
   "execution_count": null,
   "metadata": {
    "scrolled": false
   },
   "outputs": [],
   "source": [
    "#_11\n",
    "\n",
    "\n",
    "with pm.Model() as model_011:\n",
    "    \n",
    "    # Hyperpriors\n",
    "    α_μ = _____\n",
    "    α_σ = _____\n",
    "    \n",
    "    # Priors\n",
    "    α = _____\n",
    "    β_age = _____\n",
    "    β_sex = _____\n",
    "    β_bmi = _____\n",
    "    β_smoke=_____)\n",
    "    σ = _____\n",
    "    \n",
    "    # Linear Model\n",
    "    μ = pm.Deterministic(\n",
    "        \"μ\", \n",
    "        _____\n",
    "    )\n",
    "    \n",
    "    # Likelihood    \n",
    "    y = pm._____(\"y\", _____, _____, _____=logcharge_std)\n",
    "    \n",
    "    # Sample\n",
    "    trace_011 = pm._____(\n",
    "        target_accept=0.98,\n",
    "        random_seed=42\n",
    "    )\n",
    "    \n",
    "    varlist =  [\n",
    "            'α', \n",
    "            \"β_age\",\n",
    "            \"β_sex\",\n",
    "            \"β_bmi\",\n",
    "            \"β_smoke\" ,\n",
    "            'σ'\n",
    "        ]\n",
    "    \n",
    "    # Plot Trace\n",
    "    az.plot_trace(\n",
    "        trace_011,\n",
    "        varlist\n",
    "    )\n",
    "\n",
    "# DO NOT CHANGE ANYTHING BELOW THIS LINE\n",
    "    \n",
    "# Store the result in the assignment variable\n",
    "_11 = (trace_011[\"diverging\"].nonzero()[0].size,\n",
    "       trace_011.varnames,\n",
    "       trace_011.get_values(\"α\").shape)    "
   ]
  },
  {
   "cell_type": "markdown",
   "metadata": {},
   "source": [
    "## Question 12:\n",
    "\n",
    "<div class=\"alert alert-block alert-info\">  \n",
    "Time to interpret your final multilevel model! Your task here will be to examine your model's posterior distribution and posterior predictive plots. Once you've had a good look at them, tell us what you see!  \n",
    "</div>\n",
    "<div class=\"alert alert-block alert-success\">\n",
    "Produce and examine a posterior HDI plot and a posterior predictive plot. Using 2 to 5 sentences, assess the impact (if any) of the multilevel component of the model you built for question 11. What influence did it have on the model's ability to retrodict the data, compared to the question 9 model? In one sentence, what might be a reasonable conclusion to draw about the differences between the four different regions in the dataset?  Throughout, be specific and make references to course material from the readings for this module. Vague answers will not recieve full credit. \n",
    "</div>"
   ]
  },
  {
   "cell_type": "code",
   "execution_count": null,
   "metadata": {
    "scrolled": false
   },
   "outputs": [],
   "source": [
    "#_12\n",
    "\n",
    "with model_011:\n",
    "    # Plot Posterior\n",
    "    fig, axs = plt.subplots(9, 1, sharex=True, sharey=True, figsize=(9, 27))\n",
    "    az._____(\n",
    "        trace_011,\n",
    "        ax=axs,\n",
    "        var_names=varlist,\n",
    "        round_to=2,\n",
    "    )\n",
    "    fig.tight_layout()\n",
    "    \n",
    "\n",
    "\n",
    "    ppc_011 = pm._____(\n",
    "        trace_011,\n",
    "        var_names=['y', 'μ']\n",
    "    )\n",
    "\n",
    "plot_ppd(ppc_011, logcharge_std)\n",
    "\n",
    "# Store the result in the assignment variable\n",
    "_12 = \"\"\"\n",
    "\n",
    "SETENCE ONE OF YOUR INTERPRETATION GOES HERE.\n",
    "SETENCE TWO OF YOUR INTERPRETATION GOES HERE.\n",
    "SETENCE THREE OF YOUR INTERPRETATION GOES HERE (if necessary).\n",
    "SETENCE FOUR OF YOUR INTERPRETATION GOES HERE (if necessary).\n",
    "SETENCE FIVE OF YOUR INTERPRETATION GOES HERE (if necessary).\n",
    "\n",
    "\"\"\" # do not change this variable name"
   ]
  },
  {
   "cell_type": "code",
   "execution_count": null,
   "metadata": {},
   "outputs": [],
   "source": [
    "## FINALIZE ASSIGNMENT\n",
    "\n",
    "import pickle as pkl\n",
    "\n",
    "module = 9\n",
    "\n",
    "response_dict = {\n",
    "    \"student_id\": student_id,\n",
    "    \"grad_student\": \"Undergraduate\",\n",
    "    \"module\": module,\n",
    "    \"responses\": [\n",
    "        _01,\n",
    "        _02,\n",
    "        _03,\n",
    "        _04,\n",
    "        _05,\n",
    "        _06,\n",
    "        _07,\n",
    "        _08,\n",
    "        _09,\n",
    "        _10,\n",
    "        _11,\n",
    "        _12,\n",
    "    ],\n",
    "    \"code_cells\": In\n",
    "}\n",
    "\n",
    "module_string = f\"module_{response_dict['module']}\"\n",
    "filename = f\"{module_string}__student_{student_id}.pkl\"\n",
    "\n",
    "with open(f\"./{filename}\", 'wb') as stream:\n",
    "    pkl.dump(response_dict, stream)"
   ]
  }
 ],
 "metadata": {
  "kernelspec": {
   "display_name": "dcss",
   "language": "python",
   "name": "dcss"
  },
  "language_info": {
   "codemirror_mode": {
    "name": "ipython",
    "version": 3
   },
   "file_extension": ".py",
   "mimetype": "text/x-python",
   "name": "python",
   "nbconvert_exporter": "python",
   "pygments_lexer": "ipython3",
   "version": "3.8.2"
  }
 },
 "nbformat": 4,
 "nbformat_minor": 4
}
